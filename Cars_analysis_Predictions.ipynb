{
 "cells": [
  {
   "cell_type": "code",
   "execution_count": 1,
   "id": "c162486a",
   "metadata": {},
   "outputs": [],
   "source": [
    "import numpy as np\n",
    "import pandas as pd\n",
    "import tensorflow as tf\n",
    "import matplotlib.pyplot as plt"
   ]
  },
  {
   "cell_type": "markdown",
   "id": "6f4bba3f",
   "metadata": {},
   "source": [
    "## Loading Data"
   ]
  },
  {
   "cell_type": "code",
   "execution_count": 2,
   "id": "ee391a78",
   "metadata": {},
   "outputs": [
    {
     "data": {
      "text/html": [
       "<div>\n",
       "<style scoped>\n",
       "    .dataframe tbody tr th:only-of-type {\n",
       "        vertical-align: middle;\n",
       "    }\n",
       "\n",
       "    .dataframe tbody tr th {\n",
       "        vertical-align: top;\n",
       "    }\n",
       "\n",
       "    .dataframe thead th {\n",
       "        text-align: right;\n",
       "    }\n",
       "</style>\n",
       "<table border=\"1\" class=\"dataframe\">\n",
       "  <thead>\n",
       "    <tr style=\"text-align: right;\">\n",
       "      <th></th>\n",
       "      <th>brand</th>\n",
       "      <th>model</th>\n",
       "      <th>complect</th>\n",
       "      <th>type_car</th>\n",
       "      <th>seats</th>\n",
       "      <th>doors</th>\n",
       "      <th>Двигатель</th>\n",
       "      <th>Мощность</th>\n",
       "      <th>Крутящий момент двигателя</th>\n",
       "      <th>Коробка передач</th>\n",
       "      <th>...</th>\n",
       "      <th>Разгон до сотни</th>\n",
       "      <th>Максимальная скорость</th>\n",
       "      <th>Расход топлива (л/100 км)\\nгород / трасса / смешанный</th>\n",
       "      <th>Дорожный просвет</th>\n",
       "      <th>Габариты (длина × ширина × высота)</th>\n",
       "      <th>Колёсная база</th>\n",
       "      <th>Объём багажника</th>\n",
       "      <th>Объём багажника максимальный</th>\n",
       "      <th>Объём топливного бака</th>\n",
       "      <th>Масса автомобиля</th>\n",
       "    </tr>\n",
       "  </thead>\n",
       "  <tbody>\n",
       "    <tr>\n",
       "      <th>0</th>\n",
       "      <td>Audi</td>\n",
       "      <td>A3 Sedan</td>\n",
       "      <td>1.4 TFSI 7AMT</td>\n",
       "      <td>Седан класса C</td>\n",
       "      <td>5</td>\n",
       "      <td>4</td>\n",
       "      <td>бензиновый (1395 см³)</td>\n",
       "      <td>150 л. с.</td>\n",
       "      <td>250 Н·м</td>\n",
       "      <td>роботизированная (7 ступеней)</td>\n",
       "      <td>...</td>\n",
       "      <td>8.2 секунды</td>\n",
       "      <td>224 км/ч</td>\n",
       "      <td>5.9 / 4.1 / 4.8</td>\n",
       "      <td>165 мм</td>\n",
       "      <td>4458 × 1796 × 1416</td>\n",
       "      <td>2637 мм</td>\n",
       "      <td>425 л</td>\n",
       "      <td>880 л</td>\n",
       "      <td>50 л</td>\n",
       "      <td>1320 кг</td>\n",
       "    </tr>\n",
       "    <tr>\n",
       "      <th>1</th>\n",
       "      <td>Audi</td>\n",
       "      <td>A3 Sedan</td>\n",
       "      <td>sport 1.4 TFSI 7AMT</td>\n",
       "      <td>Седан класса C</td>\n",
       "      <td>5</td>\n",
       "      <td>4</td>\n",
       "      <td>бензиновый (1395 см³)</td>\n",
       "      <td>150 л. с.</td>\n",
       "      <td>250 Н·м</td>\n",
       "      <td>роботизированная (7 ступеней)</td>\n",
       "      <td>...</td>\n",
       "      <td>8.2 секунды</td>\n",
       "      <td>224 км/ч</td>\n",
       "      <td>5.9 / 4.1 / 4.8</td>\n",
       "      <td>165 мм</td>\n",
       "      <td>4458 × 1796 × 1416</td>\n",
       "      <td>2637 мм</td>\n",
       "      <td>425 л</td>\n",
       "      <td>880 л</td>\n",
       "      <td>50 л</td>\n",
       "      <td>1320 кг</td>\n",
       "    </tr>\n",
       "    <tr>\n",
       "      <th>2</th>\n",
       "      <td>Audi</td>\n",
       "      <td>A3 Sedan</td>\n",
       "      <td>2.0 TFSI 7AMT</td>\n",
       "      <td>Седан класса C</td>\n",
       "      <td>5</td>\n",
       "      <td>4</td>\n",
       "      <td>бензиновый (1984 см³)</td>\n",
       "      <td>190 л. с.</td>\n",
       "      <td>320 Н·м</td>\n",
       "      <td>роботизированная (7 ступеней)</td>\n",
       "      <td>...</td>\n",
       "      <td>6.8 секунды</td>\n",
       "      <td>250 км/ч</td>\n",
       "      <td>7.2 / 4.7 / 5.6</td>\n",
       "      <td>165 мм</td>\n",
       "      <td>4458 × 1796 × 1416</td>\n",
       "      <td>2637 мм</td>\n",
       "      <td>425 л</td>\n",
       "      <td>880 л</td>\n",
       "      <td>50 л</td>\n",
       "      <td>1395 кг</td>\n",
       "    </tr>\n",
       "    <tr>\n",
       "      <th>3</th>\n",
       "      <td>Audi</td>\n",
       "      <td>A3 Sedan</td>\n",
       "      <td>2.0 TFSI 7AMT quattro</td>\n",
       "      <td>Седан класса C</td>\n",
       "      <td>5</td>\n",
       "      <td>4</td>\n",
       "      <td>бензиновый (1984 см³)</td>\n",
       "      <td>190 л. с.</td>\n",
       "      <td>320 Н·м</td>\n",
       "      <td>роботизированная (7 ступеней)</td>\n",
       "      <td>...</td>\n",
       "      <td>6.2 секунды</td>\n",
       "      <td>242 км/ч</td>\n",
       "      <td>7.2 / 4.8 / 5.7</td>\n",
       "      <td>165 мм</td>\n",
       "      <td>4458 × 1796 × 1416</td>\n",
       "      <td>2637 мм</td>\n",
       "      <td>390 л</td>\n",
       "      <td>845 л</td>\n",
       "      <td>55 л</td>\n",
       "      <td>1465 кг</td>\n",
       "    </tr>\n",
       "    <tr>\n",
       "      <th>4</th>\n",
       "      <td>Audi</td>\n",
       "      <td>A3 Sedan</td>\n",
       "      <td>sport 2.0 TFSI 7AMT</td>\n",
       "      <td>Седан класса C</td>\n",
       "      <td>5</td>\n",
       "      <td>4</td>\n",
       "      <td>бензиновый (1984 см³)</td>\n",
       "      <td>190 л. с.</td>\n",
       "      <td>320 Н·м</td>\n",
       "      <td>роботизированная (7 ступеней)</td>\n",
       "      <td>...</td>\n",
       "      <td>6.8 секунды</td>\n",
       "      <td>242 км/ч</td>\n",
       "      <td>7.2 / 4.7 / 5.6</td>\n",
       "      <td>165 мм</td>\n",
       "      <td>4458 × 1796 × 1416</td>\n",
       "      <td>2637 мм</td>\n",
       "      <td>425 л</td>\n",
       "      <td>880 л</td>\n",
       "      <td>50 л</td>\n",
       "      <td>1395 кг</td>\n",
       "    </tr>\n",
       "  </tbody>\n",
       "</table>\n",
       "<p>5 rows × 21 columns</p>\n",
       "</div>"
      ],
      "text/plain": [
       "  brand     model               complect        type_car  seats  doors  \\\n",
       "0  Audi  A3 Sedan          1.4 TFSI 7AMT  Седан класса C      5      4   \n",
       "1  Audi  A3 Sedan    sport 1.4 TFSI 7AMT  Седан класса C      5      4   \n",
       "2  Audi  A3 Sedan          2.0 TFSI 7AMT  Седан класса C      5      4   \n",
       "3  Audi  A3 Sedan  2.0 TFSI 7AMT quattro  Седан класса C      5      4   \n",
       "4  Audi  A3 Sedan    sport 2.0 TFSI 7AMT  Седан класса C      5      4   \n",
       "\n",
       "               Двигатель   Мощность Крутящий момент двигателя  \\\n",
       "0  бензиновый (1395 см³)  150 л. с.                   250 Н·м   \n",
       "1  бензиновый (1395 см³)  150 л. с.                   250 Н·м   \n",
       "2  бензиновый (1984 см³)  190 л. с.                   320 Н·м   \n",
       "3  бензиновый (1984 см³)  190 л. с.                   320 Н·м   \n",
       "4  бензиновый (1984 см³)  190 л. с.                   320 Н·м   \n",
       "\n",
       "                 Коробка передач  ... Разгон до сотни Максимальная скорость  \\\n",
       "0  роботизированная (7 ступеней)  ...     8.2 секунды              224 км/ч   \n",
       "1  роботизированная (7 ступеней)  ...     8.2 секунды              224 км/ч   \n",
       "2  роботизированная (7 ступеней)  ...     6.8 секунды              250 км/ч   \n",
       "3  роботизированная (7 ступеней)  ...     6.2 секунды              242 км/ч   \n",
       "4  роботизированная (7 ступеней)  ...     6.8 секунды              242 км/ч   \n",
       "\n",
       "  Расход топлива (л/100 км)\\nгород / трасса / смешанный Дорожный просвет  \\\n",
       "0                                    5.9 / 4.1 / 4.8              165 мм   \n",
       "1                                    5.9 / 4.1 / 4.8              165 мм   \n",
       "2                                    7.2 / 4.7 / 5.6              165 мм   \n",
       "3                                    7.2 / 4.8 / 5.7              165 мм   \n",
       "4                                    7.2 / 4.7 / 5.6              165 мм   \n",
       "\n",
       "  Габариты (длина × ширина × высота) Колёсная база Объём багажника  \\\n",
       "0                 4458 × 1796 × 1416       2637 мм           425 л   \n",
       "1                 4458 × 1796 × 1416       2637 мм           425 л   \n",
       "2                 4458 × 1796 × 1416       2637 мм           425 л   \n",
       "3                 4458 × 1796 × 1416       2637 мм           390 л   \n",
       "4                 4458 × 1796 × 1416       2637 мм           425 л   \n",
       "\n",
       "  Объём багажника максимальный Объём топливного бака Масса автомобиля  \n",
       "0                        880 л                  50 л          1320 кг  \n",
       "1                        880 л                  50 л          1320 кг  \n",
       "2                        880 л                  50 л          1395 кг  \n",
       "3                        845 л                  55 л          1465 кг  \n",
       "4                        880 л                  50 л          1395 кг  \n",
       "\n",
       "[5 rows x 21 columns]"
      ]
     },
     "execution_count": 2,
     "metadata": {},
     "output_type": "execute_result"
    }
   ],
   "source": [
    "cars = pd.read_csv(\"auto_complectations.csv\", delimiter=',')\n",
    "cars.head()"
   ]
  },
  {
   "cell_type": "code",
   "execution_count": 3,
   "id": "e0cad099",
   "metadata": {},
   "outputs": [
    {
     "data": {
      "text/plain": [
       "brand                                                    object\n",
       "model                                                    object\n",
       "complect                                                 object\n",
       "type_car                                                 object\n",
       "seats                                                     int64\n",
       "doors                                                     int64\n",
       "Двигатель                                                object\n",
       "Мощность                                                 object\n",
       "Крутящий момент двигателя                                object\n",
       "Коробка передач                                          object\n",
       "Привод                                                   object\n",
       "Разгон до сотни                                          object\n",
       "Максимальная скорость                                    object\n",
       "Расход топлива (л/100 км)\\nгород / трасса / смешанный    object\n",
       "Дорожный просвет                                         object\n",
       "Габариты (длина × ширина × высота)                       object\n",
       "Колёсная база                                            object\n",
       "Объём багажника                                          object\n",
       "Объём багажника максимальный                             object\n",
       "Объём топливного бака                                    object\n",
       "Масса автомобиля                                         object\n",
       "dtype: object"
      ]
     },
     "execution_count": 3,
     "metadata": {},
     "output_type": "execute_result"
    }
   ],
   "source": [
    "cars.dtypes"
   ]
  },
  {
   "cell_type": "code",
   "execution_count": 4,
   "id": "5cbaf8e1",
   "metadata": {},
   "outputs": [
    {
     "data": {
      "text/plain": [
       "(1703, 21)"
      ]
     },
     "execution_count": 4,
     "metadata": {},
     "output_type": "execute_result"
    }
   ],
   "source": [
    "cars.shape"
   ]
  },
  {
   "cell_type": "markdown",
   "id": "049a3885",
   "metadata": {},
   "source": [
    "## Cleaning Data\n",
    "\n",
    "Most of columns are object although they refer to numerical values"
   ]
  },
  {
   "cell_type": "code",
   "execution_count": 5,
   "id": "72427081",
   "metadata": {},
   "outputs": [],
   "source": [
    "def nums_in_column(df, column_name, n=1):\n",
    "    \"\"\"\n",
    "    A function used to seperate numerical values from\n",
    "    column of string\n",
    "    \n",
    "    Attributes:\n",
    "    - df: pd.DataFrame\n",
    "    - column_name: str\n",
    "    - n: int\n",
    "    \n",
    "    returns DataFrame\n",
    "    \"\"\"\n",
    "    \n",
    "    def add_nan(l_of_l):\n",
    "        \"\"\"\n",
    "        A function used to append nans to make square list of list\n",
    "\n",
    "        Attributes:\n",
    "        - l_of_l: list of lists\n",
    "\n",
    "        returns list of list\n",
    "        \"\"\"\n",
    "        for i in range(len(l_of_l)):\n",
    "            if len(l_of_l[i]) < n:\n",
    "                l_of_l[i] = [None for _ in range(n)]\n",
    "        return l_of_l\n",
    "                \n",
    "    return pd.DataFrame(\n",
    "                            np.reshape(\n",
    "                            add_nan(\n",
    "                                df[column_name]\n",
    "                                .str.findall(r\"\\d*\\.\\d+|\\d+\").tolist()\n",
    "                            )\n",
    "                            , (df.shape[0], n)).astype(float)\n",
    "                        )\n",
    "\n",
    "def emit_diff_unit(df, column, unit):\n",
    "    \"\"\"\n",
    "    if unit is not the same, emit value\n",
    "    it uses boolean mask\n",
    "    \n",
    "    Attributes:\n",
    "    - df: pd.DataFrame\n",
    "    - column_name: str\n",
    "    - unit: str\n",
    "    \n",
    "    returns boolean mask\n",
    "    \"\"\"\n",
    "    return (unit in df[column])\n",
    "    "
   ]
  },
  {
   "cell_type": "code",
   "execution_count": 6,
   "id": "ca28c360",
   "metadata": {},
   "outputs": [],
   "source": [
    "types = [\"седан\", \"хетчбек\", \"кроссовер\", \"внедорожник\"]\n",
    "\n",
    "def type_in_str(s):\n",
    "    \"\"\"\n",
    "    A function used to find substring\n",
    "    \n",
    "    Attributes:\n",
    "    - s: str\n",
    "    \n",
    "    returns str\n",
    "    or None if no substring is found\n",
    "    \"\"\"\n",
    "    for t in types:\n",
    "        if t in s.lower():\n",
    "            return t\n",
    "    return None\n",
    "\n",
    "\n",
    "def find_types(df, column):\n",
    "    \"\"\"\n",
    "    A function used to seperate numerical values from\n",
    "    column of string\n",
    "    \n",
    "    Attributes:\n",
    "    - df: pd.DataFrame\n",
    "    - column: str\n",
    "    \n",
    "    returns DataFrame\n",
    "    \"\"\"\n",
    "    return df[column].map(type_in_str)"
   ]
  },
  {
   "cell_type": "code",
   "execution_count": 7,
   "id": "c6bb69f8",
   "metadata": {},
   "outputs": [],
   "source": [
    "#r = np.reshape(cars[\"Габариты (длина × ширина × высота)\"].str.extractall(\"(\\d*\\.?\\d+)\")[0].tolist(), (1703, 3)).astype(int)"
   ]
  },
  {
   "cell_type": "code",
   "execution_count": 8,
   "id": "3c87ed3e",
   "metadata": {},
   "outputs": [],
   "source": [
    "# seperate numerical values from this column into 3 columns\n",
    "r = nums_in_column(cars, \"Габариты (длина × ширина × высота)\", n=3)"
   ]
  },
  {
   "cell_type": "code",
   "execution_count": 9,
   "id": "67446a3c",
   "metadata": {},
   "outputs": [
    {
     "data": {
      "text/html": [
       "<div>\n",
       "<style scoped>\n",
       "    .dataframe tbody tr th:only-of-type {\n",
       "        vertical-align: middle;\n",
       "    }\n",
       "\n",
       "    .dataframe tbody tr th {\n",
       "        vertical-align: top;\n",
       "    }\n",
       "\n",
       "    .dataframe thead th {\n",
       "        text-align: right;\n",
       "    }\n",
       "</style>\n",
       "<table border=\"1\" class=\"dataframe\">\n",
       "  <thead>\n",
       "    <tr style=\"text-align: right;\">\n",
       "      <th></th>\n",
       "      <th>длина</th>\n",
       "      <th>ширина</th>\n",
       "      <th>высота</th>\n",
       "    </tr>\n",
       "  </thead>\n",
       "  <tbody>\n",
       "    <tr>\n",
       "      <th>0</th>\n",
       "      <td>4458.0</td>\n",
       "      <td>1796.0</td>\n",
       "      <td>1416.0</td>\n",
       "    </tr>\n",
       "    <tr>\n",
       "      <th>1</th>\n",
       "      <td>4458.0</td>\n",
       "      <td>1796.0</td>\n",
       "      <td>1416.0</td>\n",
       "    </tr>\n",
       "    <tr>\n",
       "      <th>2</th>\n",
       "      <td>4458.0</td>\n",
       "      <td>1796.0</td>\n",
       "      <td>1416.0</td>\n",
       "    </tr>\n",
       "    <tr>\n",
       "      <th>3</th>\n",
       "      <td>4458.0</td>\n",
       "      <td>1796.0</td>\n",
       "      <td>1416.0</td>\n",
       "    </tr>\n",
       "    <tr>\n",
       "      <th>4</th>\n",
       "      <td>4458.0</td>\n",
       "      <td>1796.0</td>\n",
       "      <td>1416.0</td>\n",
       "    </tr>\n",
       "  </tbody>\n",
       "</table>\n",
       "</div>"
      ],
      "text/plain": [
       "    длина  ширина  высота\n",
       "0  4458.0  1796.0  1416.0\n",
       "1  4458.0  1796.0  1416.0\n",
       "2  4458.0  1796.0  1416.0\n",
       "3  4458.0  1796.0  1416.0\n",
       "4  4458.0  1796.0  1416.0"
      ]
     },
     "execution_count": 9,
     "metadata": {},
     "output_type": "execute_result"
    }
   ],
   "source": [
    "# display as a dataframe\n",
    "df1 = pd.DataFrame(r)\n",
    "df1.columns = [\"длина\", \"ширина\", \"высота\"]\n",
    "df1.head()"
   ]
  },
  {
   "cell_type": "code",
   "execution_count": 10,
   "id": "5e9c6a62",
   "metadata": {},
   "outputs": [
    {
     "name": "stdout",
     "output_type": "stream",
     "text": [
      "        0    1    2\n",
      "0     5.9  4.1  4.8\n",
      "1     5.9  4.1  4.8\n",
      "2     7.2  4.7  5.6\n",
      "3     7.2  4.8  5.7\n",
      "4     7.2  4.7  5.6\n",
      "...   ...  ...  ...\n",
      "1698  6.4  5.5  5.8\n",
      "1699  0.0  0.0  8.3\n",
      "1700  6.4  5.5  5.8\n",
      "1701  0.0  0.0  2.1\n",
      "1702  0.0  0.0  2.1\n",
      "\n",
      "[1703 rows x 3 columns]\n"
     ]
    },
    {
     "data": {
      "text/html": [
       "<div>\n",
       "<style scoped>\n",
       "    .dataframe tbody tr th:only-of-type {\n",
       "        vertical-align: middle;\n",
       "    }\n",
       "\n",
       "    .dataframe tbody tr th {\n",
       "        vertical-align: top;\n",
       "    }\n",
       "\n",
       "    .dataframe thead th {\n",
       "        text-align: right;\n",
       "    }\n",
       "</style>\n",
       "<table border=\"1\" class=\"dataframe\">\n",
       "  <thead>\n",
       "    <tr style=\"text-align: right;\">\n",
       "      <th></th>\n",
       "      <th>Fuel city</th>\n",
       "      <th>Fuel highway</th>\n",
       "      <th>Fuel Mixed</th>\n",
       "    </tr>\n",
       "  </thead>\n",
       "  <tbody>\n",
       "    <tr>\n",
       "      <th>0</th>\n",
       "      <td>5.9</td>\n",
       "      <td>4.1</td>\n",
       "      <td>4.8</td>\n",
       "    </tr>\n",
       "    <tr>\n",
       "      <th>1</th>\n",
       "      <td>5.9</td>\n",
       "      <td>4.1</td>\n",
       "      <td>4.8</td>\n",
       "    </tr>\n",
       "    <tr>\n",
       "      <th>2</th>\n",
       "      <td>7.2</td>\n",
       "      <td>4.7</td>\n",
       "      <td>5.6</td>\n",
       "    </tr>\n",
       "    <tr>\n",
       "      <th>3</th>\n",
       "      <td>7.2</td>\n",
       "      <td>4.8</td>\n",
       "      <td>5.7</td>\n",
       "    </tr>\n",
       "    <tr>\n",
       "      <th>4</th>\n",
       "      <td>7.2</td>\n",
       "      <td>4.7</td>\n",
       "      <td>5.6</td>\n",
       "    </tr>\n",
       "  </tbody>\n",
       "</table>\n",
       "</div>"
      ],
      "text/plain": [
       "   Fuel city  Fuel highway  Fuel Mixed\n",
       "0        5.9           4.1         4.8\n",
       "1        5.9           4.1         4.8\n",
       "2        7.2           4.7         5.6\n",
       "3        7.2           4.8         5.7\n",
       "4        7.2           4.7         5.6"
      ]
     },
     "execution_count": 10,
     "metadata": {},
     "output_type": "execute_result"
    }
   ],
   "source": [
    "# repeat for this column\n",
    "r = nums_in_column(cars, \"Расход топлива (л/100 км)\\nгород / трасса / смешанный\", n=3)\n",
    "df2 = pd.DataFrame(r)\n",
    "print(df2)\n",
    "df2.columns = [\"Fuel city\", \"Fuel highway\", \"Fuel Mixed\"]\n",
    "df2.head()"
   ]
  },
  {
   "cell_type": "code",
   "execution_count": 11,
   "id": "13398785",
   "metadata": {},
   "outputs": [
    {
     "data": {
      "text/html": [
       "<div>\n",
       "<style scoped>\n",
       "    .dataframe tbody tr th:only-of-type {\n",
       "        vertical-align: middle;\n",
       "    }\n",
       "\n",
       "    .dataframe tbody tr th {\n",
       "        vertical-align: top;\n",
       "    }\n",
       "\n",
       "    .dataframe thead th {\n",
       "        text-align: right;\n",
       "    }\n",
       "</style>\n",
       "<table border=\"1\" class=\"dataframe\">\n",
       "  <thead>\n",
       "    <tr style=\"text-align: right;\">\n",
       "      <th></th>\n",
       "      <th>длина</th>\n",
       "      <th>ширина</th>\n",
       "      <th>высота</th>\n",
       "      <th>Fuel city</th>\n",
       "      <th>Fuel highway</th>\n",
       "      <th>Fuel Mixed</th>\n",
       "    </tr>\n",
       "  </thead>\n",
       "  <tbody>\n",
       "    <tr>\n",
       "      <th>0</th>\n",
       "      <td>4458.0</td>\n",
       "      <td>1796.0</td>\n",
       "      <td>1416.0</td>\n",
       "      <td>5.9</td>\n",
       "      <td>4.1</td>\n",
       "      <td>4.8</td>\n",
       "    </tr>\n",
       "    <tr>\n",
       "      <th>1</th>\n",
       "      <td>4458.0</td>\n",
       "      <td>1796.0</td>\n",
       "      <td>1416.0</td>\n",
       "      <td>5.9</td>\n",
       "      <td>4.1</td>\n",
       "      <td>4.8</td>\n",
       "    </tr>\n",
       "    <tr>\n",
       "      <th>2</th>\n",
       "      <td>4458.0</td>\n",
       "      <td>1796.0</td>\n",
       "      <td>1416.0</td>\n",
       "      <td>7.2</td>\n",
       "      <td>4.7</td>\n",
       "      <td>5.6</td>\n",
       "    </tr>\n",
       "    <tr>\n",
       "      <th>3</th>\n",
       "      <td>4458.0</td>\n",
       "      <td>1796.0</td>\n",
       "      <td>1416.0</td>\n",
       "      <td>7.2</td>\n",
       "      <td>4.8</td>\n",
       "      <td>5.7</td>\n",
       "    </tr>\n",
       "    <tr>\n",
       "      <th>4</th>\n",
       "      <td>4458.0</td>\n",
       "      <td>1796.0</td>\n",
       "      <td>1416.0</td>\n",
       "      <td>7.2</td>\n",
       "      <td>4.7</td>\n",
       "      <td>5.6</td>\n",
       "    </tr>\n",
       "  </tbody>\n",
       "</table>\n",
       "</div>"
      ],
      "text/plain": [
       "    длина  ширина  высота  Fuel city  Fuel highway  Fuel Mixed\n",
       "0  4458.0  1796.0  1416.0        5.9           4.1         4.8\n",
       "1  4458.0  1796.0  1416.0        5.9           4.1         4.8\n",
       "2  4458.0  1796.0  1416.0        7.2           4.7         5.6\n",
       "3  4458.0  1796.0  1416.0        7.2           4.8         5.7\n",
       "4  4458.0  1796.0  1416.0        7.2           4.7         5.6"
      ]
     },
     "execution_count": 11,
     "metadata": {},
     "output_type": "execute_result"
    }
   ],
   "source": [
    "frames = [df1, df2]\n",
    "cleaned_df = pd.concat(frames, axis=1)\n",
    "cleaned_df.head()"
   ]
  },
  {
   "cell_type": "code",
   "execution_count": 12,
   "id": "261f37f1",
   "metadata": {},
   "outputs": [
    {
     "data": {
      "text/plain": [
       "1703"
      ]
     },
     "execution_count": 12,
     "metadata": {},
     "output_type": "execute_result"
    }
   ],
   "source": [
    "cleaned_df.shape[0]"
   ]
  },
  {
   "cell_type": "code",
   "execution_count": 13,
   "id": "8edfe896",
   "metadata": {},
   "outputs": [
    {
     "data": {
      "text/plain": [
       "0           седан\n",
       "1           седан\n",
       "2           седан\n",
       "3           седан\n",
       "4           седан\n",
       "          ...    \n",
       "1698    кроссовер\n",
       "1699    кроссовер\n",
       "1700    кроссовер\n",
       "1701    кроссовер\n",
       "1702    кроссовер\n",
       "Name: type_car, Length: 1703, dtype: object"
      ]
     },
     "execution_count": 13,
     "metadata": {},
     "output_type": "execute_result"
    }
   ],
   "source": [
    "cleaned_df[\"type_car\"] = find_types(cars, \"type_car\")\n",
    "cleaned_df[\"type_car\"]"
   ]
  },
  {
   "cell_type": "code",
   "execution_count": 14,
   "id": "aa88ddab",
   "metadata": {},
   "outputs": [
    {
     "data": {
      "text/plain": [
       "1698    Большой кроссовер\n",
       "1699    Большой кроссовер\n",
       "1700    Большой кроссовер\n",
       "1701    Большой кроссовер\n",
       "1702    Большой кроссовер\n",
       "Name: type_car, dtype: object"
      ]
     },
     "execution_count": 14,
     "metadata": {},
     "output_type": "execute_result"
    }
   ],
   "source": [
    "# Verify \n",
    "cars[\"type_car\"].tail()"
   ]
  },
  {
   "cell_type": "markdown",
   "id": "b3182f56",
   "metadata": {},
   "source": [
    "### Now apply the conversion functions to all possible columns"
   ]
  },
  {
   "cell_type": "code",
   "execution_count": 15,
   "id": "14453e33",
   "metadata": {},
   "outputs": [
    {
     "data": {
      "text/plain": [
       "['Двигатель',\n",
       " 'Мощность',\n",
       " 'Крутящий момент двигателя',\n",
       " 'Коробка передач',\n",
       " 'Разгон до сотни',\n",
       " 'Максимальная скорость',\n",
       " 'Дорожный просвет',\n",
       " 'Колёсная база',\n",
       " 'Объём багажника',\n",
       " 'Объём багажника максимальный',\n",
       " 'Объём топливного бака',\n",
       " 'Масса автомобиля']"
      ]
     },
     "execution_count": 15,
     "metadata": {},
     "output_type": "execute_result"
    }
   ],
   "source": [
    "columns_to_clean  = cars.columns.tolist()\n",
    "\n",
    "columns_to_clean.remove(\"type_car\")\n",
    "columns_to_clean.remove(\"Габариты (длина × ширина × высота)\")\n",
    "columns_to_clean.remove(\"seats\")\n",
    "columns_to_clean.remove(\"doors\")\n",
    "columns_to_clean.remove(\"Расход топлива (л/100 км)\\nгород / трасса / смешанный\")\n",
    "columns_to_clean.remove(\"model\")\n",
    "columns_to_clean.remove(\"brand\")\n",
    "columns_to_clean.remove(\"complect\")\n",
    "columns_to_clean.remove(\"Привод\")\n",
    "columns_to_clean"
   ]
  },
  {
   "cell_type": "code",
   "execution_count": 16,
   "id": "d00bf405",
   "metadata": {},
   "outputs": [
    {
     "name": "stdout",
     "output_type": "stream",
     "text": [
      "Двигатель\n",
      "           0\n",
      "0     1395.0\n",
      "1     1395.0\n",
      "2     1984.0\n",
      "3     1984.0\n",
      "4     1984.0\n",
      "...      ...\n",
      "1698  1969.0\n",
      "1699  1969.0\n",
      "1700  1969.0\n",
      "1701  1969.0\n",
      "1702  1969.0\n",
      "\n",
      "[1703 rows x 1 columns]\n",
      "Мощность\n",
      "          0\n",
      "0     150.0\n",
      "1     150.0\n",
      "2     190.0\n",
      "3     190.0\n",
      "4     190.0\n",
      "...     ...\n",
      "1698  235.0\n",
      "1699  320.0\n",
      "1700  235.0\n",
      "1701  407.0\n",
      "1702  407.0\n",
      "\n",
      "[1703 rows x 1 columns]\n",
      "Крутящий момент двигателя\n",
      "          0\n",
      "0     250.0\n",
      "1     250.0\n",
      "2     320.0\n",
      "3     320.0\n",
      "4     320.0\n",
      "...     ...\n",
      "1698  480.0\n",
      "1699  400.0\n",
      "1700  480.0\n",
      "1701  640.0\n",
      "1702  640.0\n",
      "\n",
      "[1703 rows x 1 columns]\n",
      "Коробка передач\n",
      "        0\n",
      "0     7.0\n",
      "1     7.0\n",
      "2     7.0\n",
      "3     7.0\n",
      "4     7.0\n",
      "...   ...\n",
      "1698  8.0\n",
      "1699  8.0\n",
      "1700  8.0\n",
      "1701  8.0\n",
      "1702  8.0\n",
      "\n",
      "[1703 rows x 1 columns]\n",
      "Разгон до сотни\n",
      "        0\n",
      "0     8.2\n",
      "1     8.2\n",
      "2     6.8\n",
      "3     6.2\n",
      "4     6.8\n",
      "...   ...\n",
      "1698  7.8\n",
      "1699  6.5\n",
      "1700  7.8\n",
      "1701  5.6\n",
      "1702  5.6\n",
      "\n",
      "[1703 rows x 1 columns]\n",
      "Максимальная скорость\n",
      "          0\n",
      "0     224.0\n",
      "1     224.0\n",
      "2     250.0\n",
      "3     242.0\n",
      "4     242.0\n",
      "...     ...\n",
      "1698  220.0\n",
      "1699  230.0\n",
      "1700  220.0\n",
      "1701  230.0\n",
      "1702  230.0\n",
      "\n",
      "[1703 rows x 1 columns]\n",
      "Дорожный просвет\n",
      "          0\n",
      "0     165.0\n",
      "1     165.0\n",
      "2     165.0\n",
      "3     165.0\n",
      "4     165.0\n",
      "...     ...\n",
      "1698  237.0\n",
      "1699  237.0\n",
      "1700  237.0\n",
      "1701  237.0\n",
      "1702  237.0\n",
      "\n",
      "[1703 rows x 1 columns]\n",
      "Колёсная база\n",
      "           0\n",
      "0     2637.0\n",
      "1     2637.0\n",
      "2     2637.0\n",
      "3     2637.0\n",
      "4     2637.0\n",
      "...      ...\n",
      "1698  2984.0\n",
      "1699  2984.0\n",
      "1700  2984.0\n",
      "1701  2984.0\n",
      "1702  2984.0\n",
      "\n",
      "[1703 rows x 1 columns]\n",
      "Объём багажника\n",
      "          0\n",
      "0     425.0\n",
      "1     425.0\n",
      "2     425.0\n",
      "3     390.0\n",
      "4     425.0\n",
      "...     ...\n",
      "1698  721.0\n",
      "1699  692.0\n",
      "1700  692.0\n",
      "1701  640.0\n",
      "1702  640.0\n",
      "\n",
      "[1703 rows x 1 columns]\n",
      "Объём багажника максимальный\n",
      "           0\n",
      "0      880.0\n",
      "1      880.0\n",
      "2      880.0\n",
      "3      845.0\n",
      "4      880.0\n",
      "...      ...\n",
      "1698  1899.0\n",
      "1699  1899.0\n",
      "1700  1899.0\n",
      "1701  1899.0\n",
      "1702  1899.0\n",
      "\n",
      "[1703 rows x 1 columns]\n",
      "Объём топливного бака\n",
      "         0\n",
      "0     50.0\n",
      "1     50.0\n",
      "2     50.0\n",
      "3     55.0\n",
      "4     50.0\n",
      "...    ...\n",
      "1698  71.0\n",
      "1699  71.0\n",
      "1700  71.0\n",
      "1701  70.0\n",
      "1702  70.0\n",
      "\n",
      "[1703 rows x 1 columns]\n",
      "Масса автомобиля\n",
      "           0\n",
      "0     1320.0\n",
      "1     1320.0\n",
      "2     1395.0\n",
      "3     1465.0\n",
      "4     1395.0\n",
      "...      ...\n",
      "1698  1969.0\n",
      "1699  2004.0\n",
      "1700  2009.0\n",
      "1701  2350.0\n",
      "1702  2350.0\n",
      "\n",
      "[1703 rows x 1 columns]\n"
     ]
    }
   ],
   "source": [
    "for c in columns_to_clean:\n",
    "    print(c)\n",
    "    print(nums_in_column(cars, c, n=1))\n",
    "    cleaned_df[c] = nums_in_column(cars, c, n=1)"
   ]
  },
  {
   "cell_type": "code",
   "execution_count": 17,
   "id": "3fea561e",
   "metadata": {},
   "outputs": [
    {
     "data": {
      "text/plain": [
       "0       8.2 секунды\n",
       "1       8.2 секунды\n",
       "2       6.8 секунды\n",
       "3       6.2 секунды\n",
       "4       6.8 секунды\n",
       "           ...     \n",
       "1698    7.8 секунды\n",
       "1699    6.5 секунды\n",
       "1700    7.8 секунды\n",
       "1701    5.6 секунды\n",
       "1702    5.6 секунды\n",
       "Name: Разгон до сотни, Length: 1703, dtype: object"
      ]
     },
     "execution_count": 17,
     "metadata": {},
     "output_type": "execute_result"
    }
   ],
   "source": [
    "cars[\"Разгон до сотни\"]"
   ]
  },
  {
   "cell_type": "code",
   "execution_count": 18,
   "id": "d3f3d0a2",
   "metadata": {
    "scrolled": true
   },
   "outputs": [
    {
     "data": {
      "text/html": [
       "<div>\n",
       "<style scoped>\n",
       "    .dataframe tbody tr th:only-of-type {\n",
       "        vertical-align: middle;\n",
       "    }\n",
       "\n",
       "    .dataframe tbody tr th {\n",
       "        vertical-align: top;\n",
       "    }\n",
       "\n",
       "    .dataframe thead th {\n",
       "        text-align: right;\n",
       "    }\n",
       "</style>\n",
       "<table border=\"1\" class=\"dataframe\">\n",
       "  <thead>\n",
       "    <tr style=\"text-align: right;\">\n",
       "      <th></th>\n",
       "      <th>длина</th>\n",
       "      <th>ширина</th>\n",
       "      <th>высота</th>\n",
       "      <th>Fuel city</th>\n",
       "      <th>Fuel highway</th>\n",
       "      <th>Fuel Mixed</th>\n",
       "      <th>type_car</th>\n",
       "      <th>Двигатель</th>\n",
       "      <th>Мощность</th>\n",
       "      <th>Крутящий момент двигателя</th>\n",
       "      <th>Коробка передач</th>\n",
       "      <th>Разгон до сотни</th>\n",
       "      <th>Максимальная скорость</th>\n",
       "      <th>Дорожный просвет</th>\n",
       "      <th>Колёсная база</th>\n",
       "      <th>Объём багажника</th>\n",
       "      <th>Объём багажника максимальный</th>\n",
       "      <th>Объём топливного бака</th>\n",
       "      <th>Масса автомобиля</th>\n",
       "    </tr>\n",
       "  </thead>\n",
       "  <tbody>\n",
       "    <tr>\n",
       "      <th>0</th>\n",
       "      <td>4458.0</td>\n",
       "      <td>1796.0</td>\n",
       "      <td>1416.0</td>\n",
       "      <td>5.9</td>\n",
       "      <td>4.1</td>\n",
       "      <td>4.8</td>\n",
       "      <td>седан</td>\n",
       "      <td>1395.0</td>\n",
       "      <td>150.0</td>\n",
       "      <td>250.0</td>\n",
       "      <td>7.0</td>\n",
       "      <td>8.2</td>\n",
       "      <td>224.0</td>\n",
       "      <td>165.0</td>\n",
       "      <td>2637.0</td>\n",
       "      <td>425.0</td>\n",
       "      <td>880.0</td>\n",
       "      <td>50.0</td>\n",
       "      <td>1320.0</td>\n",
       "    </tr>\n",
       "    <tr>\n",
       "      <th>1</th>\n",
       "      <td>4458.0</td>\n",
       "      <td>1796.0</td>\n",
       "      <td>1416.0</td>\n",
       "      <td>5.9</td>\n",
       "      <td>4.1</td>\n",
       "      <td>4.8</td>\n",
       "      <td>седан</td>\n",
       "      <td>1395.0</td>\n",
       "      <td>150.0</td>\n",
       "      <td>250.0</td>\n",
       "      <td>7.0</td>\n",
       "      <td>8.2</td>\n",
       "      <td>224.0</td>\n",
       "      <td>165.0</td>\n",
       "      <td>2637.0</td>\n",
       "      <td>425.0</td>\n",
       "      <td>880.0</td>\n",
       "      <td>50.0</td>\n",
       "      <td>1320.0</td>\n",
       "    </tr>\n",
       "    <tr>\n",
       "      <th>2</th>\n",
       "      <td>4458.0</td>\n",
       "      <td>1796.0</td>\n",
       "      <td>1416.0</td>\n",
       "      <td>7.2</td>\n",
       "      <td>4.7</td>\n",
       "      <td>5.6</td>\n",
       "      <td>седан</td>\n",
       "      <td>1984.0</td>\n",
       "      <td>190.0</td>\n",
       "      <td>320.0</td>\n",
       "      <td>7.0</td>\n",
       "      <td>6.8</td>\n",
       "      <td>250.0</td>\n",
       "      <td>165.0</td>\n",
       "      <td>2637.0</td>\n",
       "      <td>425.0</td>\n",
       "      <td>880.0</td>\n",
       "      <td>50.0</td>\n",
       "      <td>1395.0</td>\n",
       "    </tr>\n",
       "    <tr>\n",
       "      <th>3</th>\n",
       "      <td>4458.0</td>\n",
       "      <td>1796.0</td>\n",
       "      <td>1416.0</td>\n",
       "      <td>7.2</td>\n",
       "      <td>4.8</td>\n",
       "      <td>5.7</td>\n",
       "      <td>седан</td>\n",
       "      <td>1984.0</td>\n",
       "      <td>190.0</td>\n",
       "      <td>320.0</td>\n",
       "      <td>7.0</td>\n",
       "      <td>6.2</td>\n",
       "      <td>242.0</td>\n",
       "      <td>165.0</td>\n",
       "      <td>2637.0</td>\n",
       "      <td>390.0</td>\n",
       "      <td>845.0</td>\n",
       "      <td>55.0</td>\n",
       "      <td>1465.0</td>\n",
       "    </tr>\n",
       "    <tr>\n",
       "      <th>4</th>\n",
       "      <td>4458.0</td>\n",
       "      <td>1796.0</td>\n",
       "      <td>1416.0</td>\n",
       "      <td>7.2</td>\n",
       "      <td>4.7</td>\n",
       "      <td>5.6</td>\n",
       "      <td>седан</td>\n",
       "      <td>1984.0</td>\n",
       "      <td>190.0</td>\n",
       "      <td>320.0</td>\n",
       "      <td>7.0</td>\n",
       "      <td>6.8</td>\n",
       "      <td>242.0</td>\n",
       "      <td>165.0</td>\n",
       "      <td>2637.0</td>\n",
       "      <td>425.0</td>\n",
       "      <td>880.0</td>\n",
       "      <td>50.0</td>\n",
       "      <td>1395.0</td>\n",
       "    </tr>\n",
       "    <tr>\n",
       "      <th>...</th>\n",
       "      <td>...</td>\n",
       "      <td>...</td>\n",
       "      <td>...</td>\n",
       "      <td>...</td>\n",
       "      <td>...</td>\n",
       "      <td>...</td>\n",
       "      <td>...</td>\n",
       "      <td>...</td>\n",
       "      <td>...</td>\n",
       "      <td>...</td>\n",
       "      <td>...</td>\n",
       "      <td>...</td>\n",
       "      <td>...</td>\n",
       "      <td>...</td>\n",
       "      <td>...</td>\n",
       "      <td>...</td>\n",
       "      <td>...</td>\n",
       "      <td>...</td>\n",
       "      <td>...</td>\n",
       "    </tr>\n",
       "    <tr>\n",
       "      <th>1698</th>\n",
       "      <td>4950.0</td>\n",
       "      <td>2008.0</td>\n",
       "      <td>1776.0</td>\n",
       "      <td>6.4</td>\n",
       "      <td>5.5</td>\n",
       "      <td>5.8</td>\n",
       "      <td>кроссовер</td>\n",
       "      <td>1969.0</td>\n",
       "      <td>235.0</td>\n",
       "      <td>480.0</td>\n",
       "      <td>8.0</td>\n",
       "      <td>7.8</td>\n",
       "      <td>220.0</td>\n",
       "      <td>237.0</td>\n",
       "      <td>2984.0</td>\n",
       "      <td>721.0</td>\n",
       "      <td>1899.0</td>\n",
       "      <td>71.0</td>\n",
       "      <td>1969.0</td>\n",
       "    </tr>\n",
       "    <tr>\n",
       "      <th>1699</th>\n",
       "      <td>4950.0</td>\n",
       "      <td>2008.0</td>\n",
       "      <td>1776.0</td>\n",
       "      <td>0.0</td>\n",
       "      <td>0.0</td>\n",
       "      <td>8.3</td>\n",
       "      <td>кроссовер</td>\n",
       "      <td>1969.0</td>\n",
       "      <td>320.0</td>\n",
       "      <td>400.0</td>\n",
       "      <td>8.0</td>\n",
       "      <td>6.5</td>\n",
       "      <td>230.0</td>\n",
       "      <td>237.0</td>\n",
       "      <td>2984.0</td>\n",
       "      <td>692.0</td>\n",
       "      <td>1899.0</td>\n",
       "      <td>71.0</td>\n",
       "      <td>2004.0</td>\n",
       "    </tr>\n",
       "    <tr>\n",
       "      <th>1700</th>\n",
       "      <td>4950.0</td>\n",
       "      <td>2008.0</td>\n",
       "      <td>1776.0</td>\n",
       "      <td>6.4</td>\n",
       "      <td>5.5</td>\n",
       "      <td>5.8</td>\n",
       "      <td>кроссовер</td>\n",
       "      <td>1969.0</td>\n",
       "      <td>235.0</td>\n",
       "      <td>480.0</td>\n",
       "      <td>8.0</td>\n",
       "      <td>7.8</td>\n",
       "      <td>220.0</td>\n",
       "      <td>237.0</td>\n",
       "      <td>2984.0</td>\n",
       "      <td>692.0</td>\n",
       "      <td>1899.0</td>\n",
       "      <td>71.0</td>\n",
       "      <td>2009.0</td>\n",
       "    </tr>\n",
       "    <tr>\n",
       "      <th>1701</th>\n",
       "      <td>4950.0</td>\n",
       "      <td>2008.0</td>\n",
       "      <td>1776.0</td>\n",
       "      <td>0.0</td>\n",
       "      <td>0.0</td>\n",
       "      <td>2.1</td>\n",
       "      <td>кроссовер</td>\n",
       "      <td>1969.0</td>\n",
       "      <td>407.0</td>\n",
       "      <td>640.0</td>\n",
       "      <td>8.0</td>\n",
       "      <td>5.6</td>\n",
       "      <td>230.0</td>\n",
       "      <td>237.0</td>\n",
       "      <td>2984.0</td>\n",
       "      <td>640.0</td>\n",
       "      <td>1899.0</td>\n",
       "      <td>70.0</td>\n",
       "      <td>2350.0</td>\n",
       "    </tr>\n",
       "    <tr>\n",
       "      <th>1702</th>\n",
       "      <td>4950.0</td>\n",
       "      <td>2008.0</td>\n",
       "      <td>1776.0</td>\n",
       "      <td>0.0</td>\n",
       "      <td>0.0</td>\n",
       "      <td>2.1</td>\n",
       "      <td>кроссовер</td>\n",
       "      <td>1969.0</td>\n",
       "      <td>407.0</td>\n",
       "      <td>640.0</td>\n",
       "      <td>8.0</td>\n",
       "      <td>5.6</td>\n",
       "      <td>230.0</td>\n",
       "      <td>237.0</td>\n",
       "      <td>2984.0</td>\n",
       "      <td>640.0</td>\n",
       "      <td>1899.0</td>\n",
       "      <td>70.0</td>\n",
       "      <td>2350.0</td>\n",
       "    </tr>\n",
       "  </tbody>\n",
       "</table>\n",
       "<p>1313 rows × 19 columns</p>\n",
       "</div>"
      ],
      "text/plain": [
       "       длина  ширина  высота  Fuel city  Fuel highway  Fuel Mixed   type_car  \\\n",
       "0     4458.0  1796.0  1416.0        5.9           4.1         4.8      седан   \n",
       "1     4458.0  1796.0  1416.0        5.9           4.1         4.8      седан   \n",
       "2     4458.0  1796.0  1416.0        7.2           4.7         5.6      седан   \n",
       "3     4458.0  1796.0  1416.0        7.2           4.8         5.7      седан   \n",
       "4     4458.0  1796.0  1416.0        7.2           4.7         5.6      седан   \n",
       "...      ...     ...     ...        ...           ...         ...        ...   \n",
       "1698  4950.0  2008.0  1776.0        6.4           5.5         5.8  кроссовер   \n",
       "1699  4950.0  2008.0  1776.0        0.0           0.0         8.3  кроссовер   \n",
       "1700  4950.0  2008.0  1776.0        6.4           5.5         5.8  кроссовер   \n",
       "1701  4950.0  2008.0  1776.0        0.0           0.0         2.1  кроссовер   \n",
       "1702  4950.0  2008.0  1776.0        0.0           0.0         2.1  кроссовер   \n",
       "\n",
       "      Двигатель  Мощность  Крутящий момент двигателя  Коробка передач  \\\n",
       "0        1395.0     150.0                      250.0              7.0   \n",
       "1        1395.0     150.0                      250.0              7.0   \n",
       "2        1984.0     190.0                      320.0              7.0   \n",
       "3        1984.0     190.0                      320.0              7.0   \n",
       "4        1984.0     190.0                      320.0              7.0   \n",
       "...         ...       ...                        ...              ...   \n",
       "1698     1969.0     235.0                      480.0              8.0   \n",
       "1699     1969.0     320.0                      400.0              8.0   \n",
       "1700     1969.0     235.0                      480.0              8.0   \n",
       "1701     1969.0     407.0                      640.0              8.0   \n",
       "1702     1969.0     407.0                      640.0              8.0   \n",
       "\n",
       "      Разгон до сотни  Максимальная скорость  Дорожный просвет  Колёсная база  \\\n",
       "0                 8.2                  224.0             165.0         2637.0   \n",
       "1                 8.2                  224.0             165.0         2637.0   \n",
       "2                 6.8                  250.0             165.0         2637.0   \n",
       "3                 6.2                  242.0             165.0         2637.0   \n",
       "4                 6.8                  242.0             165.0         2637.0   \n",
       "...               ...                    ...               ...            ...   \n",
       "1698              7.8                  220.0             237.0         2984.0   \n",
       "1699              6.5                  230.0             237.0         2984.0   \n",
       "1700              7.8                  220.0             237.0         2984.0   \n",
       "1701              5.6                  230.0             237.0         2984.0   \n",
       "1702              5.6                  230.0             237.0         2984.0   \n",
       "\n",
       "      Объём багажника  Объём багажника максимальный  Объём топливного бака  \\\n",
       "0               425.0                         880.0                   50.0   \n",
       "1               425.0                         880.0                   50.0   \n",
       "2               425.0                         880.0                   50.0   \n",
       "3               390.0                         845.0                   55.0   \n",
       "4               425.0                         880.0                   50.0   \n",
       "...               ...                           ...                    ...   \n",
       "1698            721.0                        1899.0                   71.0   \n",
       "1699            692.0                        1899.0                   71.0   \n",
       "1700            692.0                        1899.0                   71.0   \n",
       "1701            640.0                        1899.0                   70.0   \n",
       "1702            640.0                        1899.0                   70.0   \n",
       "\n",
       "      Масса автомобиля  \n",
       "0               1320.0  \n",
       "1               1320.0  \n",
       "2               1395.0  \n",
       "3               1465.0  \n",
       "4               1395.0  \n",
       "...                ...  \n",
       "1698            1969.0  \n",
       "1699            2004.0  \n",
       "1700            2009.0  \n",
       "1701            2350.0  \n",
       "1702            2350.0  \n",
       "\n",
       "[1313 rows x 19 columns]"
      ]
     },
     "execution_count": 18,
     "metadata": {},
     "output_type": "execute_result"
    }
   ],
   "source": [
    "cleaned_df = cleaned_df.dropna()\n",
    "cleaned_df"
   ]
  },
  {
   "cell_type": "code",
   "execution_count": 19,
   "id": "9c1496af",
   "metadata": {},
   "outputs": [
    {
     "data": {
      "text/plain": [
       "длина                           float64\n",
       "ширина                          float64\n",
       "высота                          float64\n",
       "Fuel city                       float64\n",
       "Fuel highway                    float64\n",
       "Fuel Mixed                      float64\n",
       "type_car                         object\n",
       "Двигатель                       float64\n",
       "Мощность                        float64\n",
       "Крутящий момент двигателя       float64\n",
       "Коробка передач                 float64\n",
       "Разгон до сотни                 float64\n",
       "Максимальная скорость           float64\n",
       "Дорожный просвет                float64\n",
       "Колёсная база                   float64\n",
       "Объём багажника                 float64\n",
       "Объём багажника максимальный    float64\n",
       "Объём топливного бака           float64\n",
       "Масса автомобиля                float64\n",
       "dtype: object"
      ]
     },
     "execution_count": 19,
     "metadata": {},
     "output_type": "execute_result"
    }
   ],
   "source": [
    "cleaned_df.dtypes"
   ]
  },
  {
   "cell_type": "code",
   "execution_count": 20,
   "id": "448dbfb9",
   "metadata": {},
   "outputs": [
    {
     "data": {
      "text/html": [
       "<div>\n",
       "<style scoped>\n",
       "    .dataframe tbody tr th:only-of-type {\n",
       "        vertical-align: middle;\n",
       "    }\n",
       "\n",
       "    .dataframe tbody tr th {\n",
       "        vertical-align: top;\n",
       "    }\n",
       "\n",
       "    .dataframe thead th {\n",
       "        text-align: right;\n",
       "    }\n",
       "</style>\n",
       "<table border=\"1\" class=\"dataframe\">\n",
       "  <thead>\n",
       "    <tr style=\"text-align: right;\">\n",
       "      <th></th>\n",
       "      <th>длина</th>\n",
       "      <th>ширина</th>\n",
       "      <th>высота</th>\n",
       "      <th>Fuel city</th>\n",
       "      <th>Fuel highway</th>\n",
       "      <th>Fuel Mixed</th>\n",
       "      <th>Двигатель</th>\n",
       "      <th>Мощность</th>\n",
       "      <th>Крутящий момент двигателя</th>\n",
       "      <th>Коробка передач</th>\n",
       "      <th>Разгон до сотни</th>\n",
       "      <th>Максимальная скорость</th>\n",
       "      <th>Дорожный просвет</th>\n",
       "      <th>Колёсная база</th>\n",
       "      <th>Объём багажника</th>\n",
       "      <th>Объём багажника максимальный</th>\n",
       "      <th>Объём топливного бака</th>\n",
       "      <th>Масса автомобиля</th>\n",
       "    </tr>\n",
       "  </thead>\n",
       "  <tbody>\n",
       "    <tr>\n",
       "      <th>count</th>\n",
       "      <td>1313.000000</td>\n",
       "      <td>1313.000000</td>\n",
       "      <td>1313.000000</td>\n",
       "      <td>1313.000000</td>\n",
       "      <td>1313.000000</td>\n",
       "      <td>1313.000000</td>\n",
       "      <td>1313.000000</td>\n",
       "      <td>1313.000000</td>\n",
       "      <td>1313.000000</td>\n",
       "      <td>1313.000000</td>\n",
       "      <td>1313.000000</td>\n",
       "      <td>1313.000000</td>\n",
       "      <td>1313.000000</td>\n",
       "      <td>1313.000000</td>\n",
       "      <td>1313.000000</td>\n",
       "      <td>1313.000000</td>\n",
       "      <td>1313.000000</td>\n",
       "      <td>1313.000000</td>\n",
       "    </tr>\n",
       "    <tr>\n",
       "      <th>mean</th>\n",
       "      <td>4691.951257</td>\n",
       "      <td>1887.574257</td>\n",
       "      <td>1624.522468</td>\n",
       "      <td>8.444707</td>\n",
       "      <td>5.384692</td>\n",
       "      <td>7.380427</td>\n",
       "      <td>2305.284844</td>\n",
       "      <td>218.694593</td>\n",
       "      <td>352.356436</td>\n",
       "      <td>6.445545</td>\n",
       "      <td>8.756740</td>\n",
       "      <td>208.642803</td>\n",
       "      <td>181.694593</td>\n",
       "      <td>2795.833968</td>\n",
       "      <td>531.495811</td>\n",
       "      <td>1266.922315</td>\n",
       "      <td>64.946687</td>\n",
       "      <td>1740.397563</td>\n",
       "    </tr>\n",
       "    <tr>\n",
       "      <th>std</th>\n",
       "      <td>278.423618</td>\n",
       "      <td>95.795534</td>\n",
       "      <td>144.553754</td>\n",
       "      <td>4.222274</td>\n",
       "      <td>2.494888</td>\n",
       "      <td>2.193485</td>\n",
       "      <td>898.403374</td>\n",
       "      <td>101.736165</td>\n",
       "      <td>166.720591</td>\n",
       "      <td>2.530960</td>\n",
       "      <td>2.267702</td>\n",
       "      <td>24.986848</td>\n",
       "      <td>46.241401</td>\n",
       "      <td>156.223992</td>\n",
       "      <td>148.152094</td>\n",
       "      <td>609.410308</td>\n",
       "      <td>15.256403</td>\n",
       "      <td>369.867674</td>\n",
       "    </tr>\n",
       "    <tr>\n",
       "      <th>min</th>\n",
       "      <td>4140.000000</td>\n",
       "      <td>1690.000000</td>\n",
       "      <td>17.000000</td>\n",
       "      <td>0.000000</td>\n",
       "      <td>0.000000</td>\n",
       "      <td>0.000000</td>\n",
       "      <td>0.000000</td>\n",
       "      <td>82.000000</td>\n",
       "      <td>118.000000</td>\n",
       "      <td>0.000000</td>\n",
       "      <td>3.200000</td>\n",
       "      <td>160.000000</td>\n",
       "      <td>0.000000</td>\n",
       "      <td>2480.000000</td>\n",
       "      <td>0.000000</td>\n",
       "      <td>0.000000</td>\n",
       "      <td>0.000000</td>\n",
       "      <td>1075.000000</td>\n",
       "    </tr>\n",
       "    <tr>\n",
       "      <th>25%</th>\n",
       "      <td>4458.000000</td>\n",
       "      <td>1820.000000</td>\n",
       "      <td>1484.000000</td>\n",
       "      <td>7.100000</td>\n",
       "      <td>5.000000</td>\n",
       "      <td>6.200000</td>\n",
       "      <td>1598.000000</td>\n",
       "      <td>150.000000</td>\n",
       "      <td>202.000000</td>\n",
       "      <td>6.000000</td>\n",
       "      <td>7.000000</td>\n",
       "      <td>190.000000</td>\n",
       "      <td>160.000000</td>\n",
       "      <td>2670.000000</td>\n",
       "      <td>454.000000</td>\n",
       "      <td>530.000000</td>\n",
       "      <td>55.000000</td>\n",
       "      <td>1454.000000</td>\n",
       "    </tr>\n",
       "    <tr>\n",
       "      <th>50%</th>\n",
       "      <td>4690.000000</td>\n",
       "      <td>1863.000000</td>\n",
       "      <td>1649.000000</td>\n",
       "      <td>9.000000</td>\n",
       "      <td>5.800000</td>\n",
       "      <td>7.300000</td>\n",
       "      <td>1998.000000</td>\n",
       "      <td>190.000000</td>\n",
       "      <td>336.000000</td>\n",
       "      <td>7.000000</td>\n",
       "      <td>8.700000</td>\n",
       "      <td>205.000000</td>\n",
       "      <td>190.000000</td>\n",
       "      <td>2790.000000</td>\n",
       "      <td>510.000000</td>\n",
       "      <td>1430.000000</td>\n",
       "      <td>60.000000</td>\n",
       "      <td>1695.000000</td>\n",
       "    </tr>\n",
       "    <tr>\n",
       "      <th>75%</th>\n",
       "      <td>4924.000000</td>\n",
       "      <td>1975.000000</td>\n",
       "      <td>1703.000000</td>\n",
       "      <td>10.500000</td>\n",
       "      <td>6.600000</td>\n",
       "      <td>8.300000</td>\n",
       "      <td>2967.000000</td>\n",
       "      <td>249.000000</td>\n",
       "      <td>450.000000</td>\n",
       "      <td>8.000000</td>\n",
       "      <td>10.500000</td>\n",
       "      <td>230.000000</td>\n",
       "      <td>211.000000</td>\n",
       "      <td>2915.000000</td>\n",
       "      <td>580.000000</td>\n",
       "      <td>1725.000000</td>\n",
       "      <td>72.000000</td>\n",
       "      <td>1966.000000</td>\n",
       "    </tr>\n",
       "    <tr>\n",
       "      <th>max</th>\n",
       "      <td>5697.000000</td>\n",
       "      <td>2157.000000</td>\n",
       "      <td>1974.000000</td>\n",
       "      <td>20.600000</td>\n",
       "      <td>11.700000</td>\n",
       "      <td>14.500000</td>\n",
       "      <td>6592.000000</td>\n",
       "      <td>625.000000</td>\n",
       "      <td>900.000000</td>\n",
       "      <td>10.000000</td>\n",
       "      <td>15.200000</td>\n",
       "      <td>305.000000</td>\n",
       "      <td>291.000000</td>\n",
       "      <td>3450.000000</td>\n",
       "      <td>1137.000000</td>\n",
       "      <td>3424.000000</td>\n",
       "      <td>138.000000</td>\n",
       "      <td>2817.000000</td>\n",
       "    </tr>\n",
       "  </tbody>\n",
       "</table>\n",
       "</div>"
      ],
      "text/plain": [
       "             длина       ширина       высота    Fuel city  Fuel highway  \\\n",
       "count  1313.000000  1313.000000  1313.000000  1313.000000   1313.000000   \n",
       "mean   4691.951257  1887.574257  1624.522468     8.444707      5.384692   \n",
       "std     278.423618    95.795534   144.553754     4.222274      2.494888   \n",
       "min    4140.000000  1690.000000    17.000000     0.000000      0.000000   \n",
       "25%    4458.000000  1820.000000  1484.000000     7.100000      5.000000   \n",
       "50%    4690.000000  1863.000000  1649.000000     9.000000      5.800000   \n",
       "75%    4924.000000  1975.000000  1703.000000    10.500000      6.600000   \n",
       "max    5697.000000  2157.000000  1974.000000    20.600000     11.700000   \n",
       "\n",
       "        Fuel Mixed    Двигатель     Мощность  Крутящий момент двигателя  \\\n",
       "count  1313.000000  1313.000000  1313.000000                1313.000000   \n",
       "mean      7.380427  2305.284844   218.694593                 352.356436   \n",
       "std       2.193485   898.403374   101.736165                 166.720591   \n",
       "min       0.000000     0.000000    82.000000                 118.000000   \n",
       "25%       6.200000  1598.000000   150.000000                 202.000000   \n",
       "50%       7.300000  1998.000000   190.000000                 336.000000   \n",
       "75%       8.300000  2967.000000   249.000000                 450.000000   \n",
       "max      14.500000  6592.000000   625.000000                 900.000000   \n",
       "\n",
       "       Коробка передач  Разгон до сотни  Максимальная скорость  \\\n",
       "count      1313.000000      1313.000000            1313.000000   \n",
       "mean          6.445545         8.756740             208.642803   \n",
       "std           2.530960         2.267702              24.986848   \n",
       "min           0.000000         3.200000             160.000000   \n",
       "25%           6.000000         7.000000             190.000000   \n",
       "50%           7.000000         8.700000             205.000000   \n",
       "75%           8.000000        10.500000             230.000000   \n",
       "max          10.000000        15.200000             305.000000   \n",
       "\n",
       "       Дорожный просвет  Колёсная база  Объём багажника  \\\n",
       "count       1313.000000    1313.000000      1313.000000   \n",
       "mean         181.694593    2795.833968       531.495811   \n",
       "std           46.241401     156.223992       148.152094   \n",
       "min            0.000000    2480.000000         0.000000   \n",
       "25%          160.000000    2670.000000       454.000000   \n",
       "50%          190.000000    2790.000000       510.000000   \n",
       "75%          211.000000    2915.000000       580.000000   \n",
       "max          291.000000    3450.000000      1137.000000   \n",
       "\n",
       "       Объём багажника максимальный  Объём топливного бака  Масса автомобиля  \n",
       "count                   1313.000000            1313.000000       1313.000000  \n",
       "mean                    1266.922315              64.946687       1740.397563  \n",
       "std                      609.410308              15.256403        369.867674  \n",
       "min                        0.000000               0.000000       1075.000000  \n",
       "25%                      530.000000              55.000000       1454.000000  \n",
       "50%                     1430.000000              60.000000       1695.000000  \n",
       "75%                     1725.000000              72.000000       1966.000000  \n",
       "max                     3424.000000             138.000000       2817.000000  "
      ]
     },
     "execution_count": 20,
     "metadata": {},
     "output_type": "execute_result"
    }
   ],
   "source": [
    "cleaned_df.describe()"
   ]
  },
  {
   "cell_type": "markdown",
   "id": "a63fc2b6",
   "metadata": {},
   "source": [
    "## Visualizing Data"
   ]
  },
  {
   "cell_type": "code",
   "execution_count": 21,
   "id": "fb517603",
   "metadata": {},
   "outputs": [],
   "source": [
    "def plot_hist(data, x_label, y_label=\"Frequency\"):\n",
    "    plt.hist(data, bins='auto', color='#0504aa', alpha=0.7, rwidth=0.9)\n",
    "    plt.grid(axis='y', alpha=0.75)\n",
    "    plt.xlabel(x_label)\n",
    "    plt.ylabel(y_label)\n",
    "    plt.show()"
   ]
  },
  {
   "cell_type": "code",
   "execution_count": 22,
   "id": "18837a5c",
   "metadata": {},
   "outputs": [],
   "source": [
    "def plot_line(data, x_label, y_label):\n",
    "    plt.plot(data, color='#0504aa', alpha=0.7, rwidth=0.9)\n",
    "    plt.grid(axis='y', alpha=0.75)\n",
    "    plt.xlabel(x_label)\n",
    "    plt.ylabel(y_label)\n",
    "    plt.show()"
   ]
  },
  {
   "cell_type": "code",
   "execution_count": 23,
   "id": "e2d98baa",
   "metadata": {},
   "outputs": [],
   "source": [
    "def plot_box(data, label):\n",
    "    plt.boxplot(data)\n",
    "    plt.title(label)\n",
    "    plt.grid(axis='y', alpha=0.75)\n",
    "    plt.show()"
   ]
  },
  {
   "cell_type": "markdown",
   "id": "84d55776",
   "metadata": {},
   "source": [
    "### Check for outliers"
   ]
  },
  {
   "cell_type": "code",
   "execution_count": 24,
   "id": "c7846c45",
   "metadata": {},
   "outputs": [
    {
     "data": {
      "image/png": "[encoded data removed]",
      "text/plain": [
       "<Figure size 432x288 with 1 Axes>"
      ]
     },
     "metadata": {
      "needs_background": "light"
     },
     "output_type": "display_data"
    },
    {
     "data": {
      "image/png": "[encoded data removed]",
      "text/plain": [
       "<Figure size 432x288 with 1 Axes>"
      ]
     },
     "metadata": {
      "needs_background": "light"
     },
     "output_type": "display_data"
    },
    {
     "data": {
      "image/png": "[encoded data removed]",
      "text/plain": [
       "<Figure size 432x288 with 1 Axes>"
      ]
     },
     "metadata": {
      "needs_background": "light"
     },
     "output_type": "display_data"
    }
   ],
   "source": [
    "plot_hist(cleaned_df[\"ширина\"], x_label=\"width\")\n",
    "plot_hist(cleaned_df[\"длина\"], x_label=\"length\")\n",
    "plot_hist(cleaned_df[\"высота\"], x_label=\"height\")"
   ]
  },
  {
   "cell_type": "code",
   "execution_count": 25,
   "id": "521447d3",
   "metadata": {},
   "outputs": [
    {
     "data": {
      "image/png": "[encoded data removed]",
      "text/plain": [
       "<Figure size 432x288 with 1 Axes>"
      ]
     },
     "metadata": {
      "needs_background": "light"
     },
     "output_type": "display_data"
    },
    {
     "data": {
      "image/png": "[encoded data removed]",
      "text/plain": [
       "<Figure size 432x288 with 1 Axes>"
      ]
     },
     "metadata": {
      "needs_background": "light"
     },
     "output_type": "display_data"
    },
    {
     "data": {
      "image/png": "[encoded data removed]",
      "text/plain": [
       "<Figure size 432x288 with 1 Axes>"
      ]
     },
     "metadata": {
      "needs_background": "light"
     },
     "output_type": "display_data"
    }
   ],
   "source": [
    "plot_box(cleaned_df[\"ширина\"], label=\"width\")\n",
    "plot_box(cleaned_df[\"длина\"], label=\"length\")\n",
    "plot_box(cleaned_df[\"высота\"], label=\"height\")\n",
    "\n",
    "# 2100 - 1600\n",
    "# 6000 - 4000\n",
    "# 2000 - 1400 (filtering needed)"
   ]
  },
  {
   "cell_type": "code",
   "execution_count": 26,
   "id": "906b2509",
   "metadata": {},
   "outputs": [
    {
     "data": {
      "image/png": "[encoded data removed]",
      "text/plain": [
       "<Figure size 432x288 with 1 Axes>"
      ]
     },
     "metadata": {
      "needs_background": "light"
     },
     "output_type": "display_data"
    },
    {
     "data": {
      "image/png": "[encoded data removed]",
      "text/plain": [
       "<Figure size 432x288 with 1 Axes>"
      ]
     },
     "metadata": {
      "needs_background": "light"
     },
     "output_type": "display_data"
    },
    {
     "data": {
      "image/png": "[encoded data removed]",
      "text/plain": [
       "<Figure size 432x288 with 1 Axes>"
      ]
     },
     "metadata": {
      "needs_background": "light"
     },
     "output_type": "display_data"
    },
    {
     "data": {
      "image/png": "[encoded data removed]",
      "text/plain": [
       "<Figure size 432x288 with 1 Axes>"
      ]
     },
     "metadata": {
      "needs_background": "light"
     },
     "output_type": "display_data"
    },
    {
     "data": {
      "image/png": "[encoded data removed]",
      "text/plain": [
       "<Figure size 432x288 with 1 Axes>"
      ]
     },
     "metadata": {
      "needs_background": "light"
     },
     "output_type": "display_data"
    },
    {
     "data": {
      "image/png": "[encoded data removed]",
      "text/plain": [
       "<Figure size 432x288 with 1 Axes>"
      ]
     },
     "metadata": {
      "needs_background": "light"
     },
     "output_type": "display_data"
    }
   ],
   "source": [
    "plot_hist(cleaned_df[\"Fuel city\"], x_label=\"Fuel city\")\n",
    "plot_hist(cleaned_df[\"Fuel highway\"], x_label=\"Fuel highway\")\n",
    "plot_hist(cleaned_df[\"Fuel Mixed\"], x_label=\"Fuel Mixed\")\n",
    "\n",
    "\n",
    "plot_box(cleaned_df[\"Fuel city\"], label=\"Fuel city\")\n",
    "plot_box(cleaned_df[\"Fuel highway\"], label=\"Fuel highway\")\n",
    "plot_box(cleaned_df[\"Fuel Mixed\"], label=\"Fuel Mixed\")\n",
    "\n",
    "# 20 - 5\n",
    "# 12 - 3\n",
    "# 14 - 2 \n",
    "# all filtering needed"
   ]
  },
  {
   "cell_type": "code",
   "execution_count": 27,
   "id": "21d65c6e",
   "metadata": {},
   "outputs": [
    {
     "data": {
      "image/png": "[encoded data removed]",
      "text/plain": [
       "<Figure size 432x288 with 1 Axes>"
      ]
     },
     "metadata": {
      "needs_background": "light"
     },
     "output_type": "display_data"
    },
    {
     "data": {
      "image/png": "[encoded data removed]",
      "text/plain": [
       "<Figure size 432x288 with 1 Axes>"
      ]
     },
     "metadata": {
      "needs_background": "light"
     },
     "output_type": "display_data"
    },
    {
     "data": {
      "image/png": "[encoded data removed]",
      "text/plain": [
       "<Figure size 432x288 with 1 Axes>"
      ]
     },
     "metadata": {
      "needs_background": "light"
     },
     "output_type": "display_data"
    },
    {
     "data": {
      "image/png": "[encoded data removed]",
      "text/plain": [
       "<Figure size 432x288 with 1 Axes>"
      ]
     },
     "metadata": {
      "needs_background": "light"
     },
     "output_type": "display_data"
    },
    {
     "data": {
      "image/png": "[encoded data removed]",
      "text/plain": [
       "<Figure size 432x288 with 1 Axes>"
      ]
     },
     "metadata": {
      "needs_background": "light"
     },
     "output_type": "display_data"
    },
    {
     "data": {
      "image/png": "[encoded data removed]",
      "text/plain": [
       "<Figure size 432x288 with 1 Axes>"
      ]
     },
     "metadata": {
      "needs_background": "light"
     },
     "output_type": "display_data"
    }
   ],
   "source": [
    "plot_hist(cleaned_df[\"Двигатель\"], x_label=\"Engine\")\n",
    "plot_hist(cleaned_df[\"Мощность\"], x_label=\"Power\")\n",
    "plot_hist(cleaned_df[\"Крутящий момент двигателя\"], x_label=\"Torque\")\n",
    "\n",
    "\n",
    "plot_box(cleaned_df[\"Двигатель\"], label=\"Engine\")\n",
    "plot_box(cleaned_df[\"Мощность\"], label=\"Power\")\n",
    "plot_box(cleaned_df[\"Крутящий момент двигателя\"], label=\"Torque\")\n",
    "\n",
    "# 7000 - 1000 (filter)\n",
    "# 700 - 100\n",
    "# 900 - 100 (filter)"
   ]
  },
  {
   "cell_type": "code",
   "execution_count": 28,
   "id": "603a7f4e",
   "metadata": {},
   "outputs": [
    {
     "data": {
      "image/png": "[encoded data removed]",
      "text/plain": [
       "<Figure size 432x288 with 1 Axes>"
      ]
     },
     "metadata": {
      "needs_background": "light"
     },
     "output_type": "display_data"
    },
    {
     "data": {
      "image/png": "[encoded data removed]",
      "text/plain": [
       "<Figure size 432x288 with 1 Axes>"
      ]
     },
     "metadata": {
      "needs_background": "light"
     },
     "output_type": "display_data"
    }
   ],
   "source": [
    "plot_hist(cleaned_df[\"Коробка передач\"], x_label=\"Transmission\")\n",
    "plot_box(cleaned_df[\"Коробка передач\"], label=\"Transmission\")\n",
    "\n",
    "# 10 - 4 (filter)"
   ]
  },
  {
   "cell_type": "code",
   "execution_count": 29,
   "id": "4ea3403f",
   "metadata": {},
   "outputs": [
    {
     "data": {
      "image/png": "[encoded data removed]",
      "text/plain": [
       "<Figure size 432x288 with 1 Axes>"
      ]
     },
     "metadata": {
      "needs_background": "light"
     },
     "output_type": "display_data"
    }
   ],
   "source": [
    "plot_hist(cleaned_df[\"Разгон до сотни\"], x_label=\"Acceleration to 100\")"
   ]
  },
  {
   "cell_type": "code",
   "execution_count": 30,
   "id": "e2e59b4b",
   "metadata": {},
   "outputs": [
    {
     "data": {
      "image/png": "[encoded data removed]",
      "text/plain": [
       "<Figure size 432x288 with 1 Axes>"
      ]
     },
     "metadata": {
      "needs_background": "light"
     },
     "output_type": "display_data"
    },
    {
     "data": {
      "image/png": "[encoded data removed]",
      "text/plain": [
       "<Figure size 432x288 with 1 Axes>"
      ]
     },
     "metadata": {
      "needs_background": "light"
     },
     "output_type": "display_data"
    }
   ],
   "source": [
    "plot_hist(cleaned_df[\"Максимальная скорость\"], x_label=\"Max speed\")\n",
    "plot_box(cleaned_df[\"Максимальная скорость\"], label=\"Max speed\")\n",
    "\n",
    "# 350 - 125 (filter)"
   ]
  },
  {
   "cell_type": "code",
   "execution_count": 31,
   "id": "ceb279e0",
   "metadata": {},
   "outputs": [
    {
     "data": {
      "image/png": "[encoded data removed]",
      "text/plain": [
       "<Figure size 432x288 with 1 Axes>"
      ]
     },
     "metadata": {
      "needs_background": "light"
     },
     "output_type": "display_data"
    },
    {
     "data": {
      "image/png": "[encoded data removed]",
      "text/plain": [
       "<Figure size 432x288 with 1 Axes>"
      ]
     },
     "metadata": {
      "needs_background": "light"
     },
     "output_type": "display_data"
    }
   ],
   "source": [
    "plot_hist(cleaned_df[\"Объём топливного бака\"], x_label=\"Fuel tank size\")\n",
    "plot_box(cleaned_df[\"Объём топливного бака\"], label=\"Fuel tank size\")\n",
    "\n",
    "# 140 - 20 (filter)"
   ]
  },
  {
   "cell_type": "code",
   "execution_count": 32,
   "id": "439dfa07",
   "metadata": {},
   "outputs": [
    {
     "data": {
      "image/png": "[encoded data removed]",
      "text/plain": [
       "<Figure size 432x288 with 1 Axes>"
      ]
     },
     "metadata": {
      "needs_background": "light"
     },
     "output_type": "display_data"
    },
    {
     "data": {
      "image/png": "[encoded data removed]",
      "text/plain": [
       "<Figure size 432x288 with 1 Axes>"
      ]
     },
     "metadata": {
      "needs_background": "light"
     },
     "output_type": "display_data"
    }
   ],
   "source": [
    "plot_hist(cleaned_df[\"Масса автомобиля\"], x_label=\"Weight of car\")\n",
    "plot_box(cleaned_df[\"Масса автомобиля\"], label=\"Weight of car\")\n",
    "\n",
    "# 3000 - 500"
   ]
  },
  {
   "cell_type": "markdown",
   "id": "0bf16afb",
   "metadata": {},
   "source": [
    "## Formulating filtering conditions\n",
    "\n",
    "    height (высота) : 2000 - 1400\n",
    "    Fuel:\n",
    "        city 20 - 5\n",
    "        highway 12 - 3\n",
    "        mixed 14 - 2 \n",
    "        \n",
    "    Engine (Двигатель) : 7000 - 1000\n",
    "    Torque (Крутящий момент двигателя) :  900 - 100\n",
    "    Transmission (Коробка передач) : 10 - 4\n",
    "    Max speed (Максимальная скорость) : 350 - 125\n",
    "    Fuel Tank size (Объём топливного бак) : 140 - 20\n",
    "    "
   ]
  },
  {
   "cell_type": "code",
   "execution_count": 33,
   "id": "54d38669",
   "metadata": {},
   "outputs": [],
   "source": [
    "def mask(row):\n",
    "    \"\"\"\n",
    "    A function used to check a row of df\n",
    "    and return a mask denoting removal if false\n",
    "    \n",
    "    Attributes:\n",
    "    - row: pandas DataFrame\n",
    "    \n",
    "    returns boolean\n",
    "    \"\"\"\n",
    "    if row[\"высота\"] < 1400 or row[\"высота\"] > 2000:\n",
    "        return False\n",
    "    elif row[\"Fuel city\"] > 20 or row[\"Fuel city\"] < 5:\n",
    "        return False\n",
    "    elif row[\"Fuel highway\"] > 12 or row[\"Fuel highway\"] < 3:\n",
    "        return False\n",
    "    elif row[\"Fuel Mixed\"] > 14 or row[\"Fuel Mixed\"] < 2:\n",
    "        return False\n",
    "    elif row[\"Двигатель\"] > 7000 or row[\"Двигатель\"] < 1000:\n",
    "        return False\n",
    "    elif row[\"Крутящий момент двигателя\"] > 900 or row[\"Крутящий момент двигателя\"] < 100:\n",
    "        return False\n",
    "    elif row[\"Коробка передач\"] > 10 or row[\"Коробка передач\"] < 4:\n",
    "        return False\n",
    "    return True\n",
    "\n",
    "def filter_df(df):\n",
    "    \"\"\"\n",
    "    A function used to filter a dataframe according to fixed rules\n",
    "    \n",
    "    Attributes:\n",
    "    - df: pandas DataFrame\n",
    "    \n",
    "    returns df\n",
    "    \"\"\"\n",
    "    return df[df.apply(mask, axis=1)]\n",
    "    "
   ]
  },
  {
   "cell_type": "code",
   "execution_count": 34,
   "id": "00b51125",
   "metadata": {},
   "outputs": [
    {
     "data": {
      "text/html": [
       "<div>\n",
       "<style scoped>\n",
       "    .dataframe tbody tr th:only-of-type {\n",
       "        vertical-align: middle;\n",
       "    }\n",
       "\n",
       "    .dataframe tbody tr th {\n",
       "        vertical-align: top;\n",
       "    }\n",
       "\n",
       "    .dataframe thead th {\n",
       "        text-align: right;\n",
       "    }\n",
       "</style>\n",
       "<table border=\"1\" class=\"dataframe\">\n",
       "  <thead>\n",
       "    <tr style=\"text-align: right;\">\n",
       "      <th></th>\n",
       "      <th>длина</th>\n",
       "      <th>ширина</th>\n",
       "      <th>высота</th>\n",
       "      <th>Fuel city</th>\n",
       "      <th>Fuel highway</th>\n",
       "      <th>Fuel Mixed</th>\n",
       "      <th>type_car</th>\n",
       "      <th>Двигатель</th>\n",
       "      <th>Мощность</th>\n",
       "      <th>Крутящий момент двигателя</th>\n",
       "      <th>Коробка передач</th>\n",
       "      <th>Разгон до сотни</th>\n",
       "      <th>Максимальная скорость</th>\n",
       "      <th>Дорожный просвет</th>\n",
       "      <th>Колёсная база</th>\n",
       "      <th>Объём багажника</th>\n",
       "      <th>Объём багажника максимальный</th>\n",
       "      <th>Объём топливного бака</th>\n",
       "      <th>Масса автомобиля</th>\n",
       "    </tr>\n",
       "  </thead>\n",
       "  <tbody>\n",
       "    <tr>\n",
       "      <th>0</th>\n",
       "      <td>4458.0</td>\n",
       "      <td>1796.0</td>\n",
       "      <td>1416.0</td>\n",
       "      <td>5.9</td>\n",
       "      <td>4.1</td>\n",
       "      <td>4.8</td>\n",
       "      <td>седан</td>\n",
       "      <td>1395.0</td>\n",
       "      <td>150.0</td>\n",
       "      <td>250.0</td>\n",
       "      <td>7.0</td>\n",
       "      <td>8.2</td>\n",
       "      <td>224.0</td>\n",
       "      <td>165.0</td>\n",
       "      <td>2637.0</td>\n",
       "      <td>425.0</td>\n",
       "      <td>880.0</td>\n",
       "      <td>50.0</td>\n",
       "      <td>1320.0</td>\n",
       "    </tr>\n",
       "    <tr>\n",
       "      <th>1</th>\n",
       "      <td>4458.0</td>\n",
       "      <td>1796.0</td>\n",
       "      <td>1416.0</td>\n",
       "      <td>5.9</td>\n",
       "      <td>4.1</td>\n",
       "      <td>4.8</td>\n",
       "      <td>седан</td>\n",
       "      <td>1395.0</td>\n",
       "      <td>150.0</td>\n",
       "      <td>250.0</td>\n",
       "      <td>7.0</td>\n",
       "      <td>8.2</td>\n",
       "      <td>224.0</td>\n",
       "      <td>165.0</td>\n",
       "      <td>2637.0</td>\n",
       "      <td>425.0</td>\n",
       "      <td>880.0</td>\n",
       "      <td>50.0</td>\n",
       "      <td>1320.0</td>\n",
       "    </tr>\n",
       "    <tr>\n",
       "      <th>2</th>\n",
       "      <td>4458.0</td>\n",
       "      <td>1796.0</td>\n",
       "      <td>1416.0</td>\n",
       "      <td>7.2</td>\n",
       "      <td>4.7</td>\n",
       "      <td>5.6</td>\n",
       "      <td>седан</td>\n",
       "      <td>1984.0</td>\n",
       "      <td>190.0</td>\n",
       "      <td>320.0</td>\n",
       "      <td>7.0</td>\n",
       "      <td>6.8</td>\n",
       "      <td>250.0</td>\n",
       "      <td>165.0</td>\n",
       "      <td>2637.0</td>\n",
       "      <td>425.0</td>\n",
       "      <td>880.0</td>\n",
       "      <td>50.0</td>\n",
       "      <td>1395.0</td>\n",
       "    </tr>\n",
       "    <tr>\n",
       "      <th>3</th>\n",
       "      <td>4458.0</td>\n",
       "      <td>1796.0</td>\n",
       "      <td>1416.0</td>\n",
       "      <td>7.2</td>\n",
       "      <td>4.8</td>\n",
       "      <td>5.7</td>\n",
       "      <td>седан</td>\n",
       "      <td>1984.0</td>\n",
       "      <td>190.0</td>\n",
       "      <td>320.0</td>\n",
       "      <td>7.0</td>\n",
       "      <td>6.2</td>\n",
       "      <td>242.0</td>\n",
       "      <td>165.0</td>\n",
       "      <td>2637.0</td>\n",
       "      <td>390.0</td>\n",
       "      <td>845.0</td>\n",
       "      <td>55.0</td>\n",
       "      <td>1465.0</td>\n",
       "    </tr>\n",
       "    <tr>\n",
       "      <th>4</th>\n",
       "      <td>4458.0</td>\n",
       "      <td>1796.0</td>\n",
       "      <td>1416.0</td>\n",
       "      <td>7.2</td>\n",
       "      <td>4.7</td>\n",
       "      <td>5.6</td>\n",
       "      <td>седан</td>\n",
       "      <td>1984.0</td>\n",
       "      <td>190.0</td>\n",
       "      <td>320.0</td>\n",
       "      <td>7.0</td>\n",
       "      <td>6.8</td>\n",
       "      <td>242.0</td>\n",
       "      <td>165.0</td>\n",
       "      <td>2637.0</td>\n",
       "      <td>425.0</td>\n",
       "      <td>880.0</td>\n",
       "      <td>50.0</td>\n",
       "      <td>1395.0</td>\n",
       "    </tr>\n",
       "  </tbody>\n",
       "</table>\n",
       "</div>"
      ],
      "text/plain": [
       "    длина  ширина  высота  Fuel city  Fuel highway  Fuel Mixed type_car  \\\n",
       "0  4458.0  1796.0  1416.0        5.9           4.1         4.8    седан   \n",
       "1  4458.0  1796.0  1416.0        5.9           4.1         4.8    седан   \n",
       "2  4458.0  1796.0  1416.0        7.2           4.7         5.6    седан   \n",
       "3  4458.0  1796.0  1416.0        7.2           4.8         5.7    седан   \n",
       "4  4458.0  1796.0  1416.0        7.2           4.7         5.6    седан   \n",
       "\n",
       "   Двигатель  Мощность  Крутящий момент двигателя  Коробка передач  \\\n",
       "0     1395.0     150.0                      250.0              7.0   \n",
       "1     1395.0     150.0                      250.0              7.0   \n",
       "2     1984.0     190.0                      320.0              7.0   \n",
       "3     1984.0     190.0                      320.0              7.0   \n",
       "4     1984.0     190.0                      320.0              7.0   \n",
       "\n",
       "   Разгон до сотни  Максимальная скорость  Дорожный просвет  Колёсная база  \\\n",
       "0              8.2                  224.0             165.0         2637.0   \n",
       "1              8.2                  224.0             165.0         2637.0   \n",
       "2              6.8                  250.0             165.0         2637.0   \n",
       "3              6.2                  242.0             165.0         2637.0   \n",
       "4              6.8                  242.0             165.0         2637.0   \n",
       "\n",
       "   Объём багажника  Объём багажника максимальный  Объём топливного бака  \\\n",
       "0            425.0                         880.0                   50.0   \n",
       "1            425.0                         880.0                   50.0   \n",
       "2            425.0                         880.0                   50.0   \n",
       "3            390.0                         845.0                   55.0   \n",
       "4            425.0                         880.0                   50.0   \n",
       "\n",
       "   Масса автомобиля  \n",
       "0            1320.0  \n",
       "1            1320.0  \n",
       "2            1395.0  \n",
       "3            1465.0  \n",
       "4            1395.0  "
      ]
     },
     "execution_count": 34,
     "metadata": {},
     "output_type": "execute_result"
    }
   ],
   "source": [
    "filtered_df = filter_df(cleaned_df)\n",
    "filtered_df.head()"
   ]
  },
  {
   "cell_type": "code",
   "execution_count": 35,
   "id": "8dbca346",
   "metadata": {},
   "outputs": [
    {
     "data": {
      "text/plain": [
       "длина                           float64\n",
       "ширина                          float64\n",
       "высота                          float64\n",
       "Fuel city                       float64\n",
       "Fuel highway                    float64\n",
       "Fuel Mixed                      float64\n",
       "type_car                         object\n",
       "Двигатель                       float64\n",
       "Мощность                        float64\n",
       "Крутящий момент двигателя       float64\n",
       "Коробка передач                 float64\n",
       "Разгон до сотни                 float64\n",
       "Максимальная скорость           float64\n",
       "Дорожный просвет                float64\n",
       "Колёсная база                   float64\n",
       "Объём багажника                 float64\n",
       "Объём багажника максимальный    float64\n",
       "Объём топливного бака           float64\n",
       "Масса автомобиля                float64\n",
       "dtype: object"
      ]
     },
     "execution_count": 35,
     "metadata": {},
     "output_type": "execute_result"
    }
   ],
   "source": [
    "filtered_df.dtypes"
   ]
  },
  {
   "cell_type": "markdown",
   "id": "3a930874",
   "metadata": {},
   "source": [
    "# Predictions"
   ]
  },
  {
   "cell_type": "markdown",
   "id": "4a1e550e",
   "metadata": {},
   "source": [
    "## Type of car"
   ]
  },
  {
   "cell_type": "code",
   "execution_count": 36,
   "id": "b046bf94",
   "metadata": {},
   "outputs": [],
   "source": [
    "X = filtered_df.drop(['type_car'], axis=1)\n",
    "y = pd.get_dummies(filtered_df['type_car'])"
   ]
  },
  {
   "cell_type": "code",
   "execution_count": 37,
   "id": "da426831",
   "metadata": {},
   "outputs": [
    {
     "data": {
      "text/plain": [
       "(999, 18)"
      ]
     },
     "execution_count": 37,
     "metadata": {},
     "output_type": "execute_result"
    }
   ],
   "source": [
    "X.shape"
   ]
  },
  {
   "cell_type": "code",
   "execution_count": 38,
   "id": "f1a0b9f5",
   "metadata": {},
   "outputs": [],
   "source": [
    "from sklearn.model_selection import train_test_split\n",
    "\n",
    "X_train, X_test, y_train, y_test = train_test_split(X, y, test_size=0.2, random_state=37)"
   ]
  },
  {
   "cell_type": "code",
   "execution_count": 39,
   "id": "9a47c171",
   "metadata": {},
   "outputs": [],
   "source": [
    "import tensorflow as tf\n",
    "from tensorflow import keras\n",
    "from tensorflow.keras import layers"
   ]
  },
  {
   "cell_type": "code",
   "execution_count": 47,
   "id": "00f071a8",
   "metadata": {},
   "outputs": [
    {
     "name": "stdout",
     "output_type": "stream",
     "text": [
      "Model: \"sequential_1\"\n",
      "_________________________________________________________________\n",
      "Layer (type)                 Output Shape              Param #   \n",
      "=================================================================\n",
      "dense_3 (Dense)              (None, 18)                342       \n",
      "_________________________________________________________________\n",
      "batch_normalization_1 (Batch (None, 18)                72        \n",
      "_________________________________________________________________\n",
      "dense_4 (Dense)              (None, 68)                1292      \n",
      "_________________________________________________________________\n",
      "dense_5 (Dense)              (None, 3)                 207       \n",
      "=================================================================\n",
      "Total params: 1,913\n",
      "Trainable params: 1,877\n",
      "Non-trainable params: 36\n",
      "_________________________________________________________________\n"
     ]
    }
   ],
   "source": [
    "model = keras.Sequential()\n",
    "\n",
    "model.add(layers.Dense(18, input_shape=(18,)))\n",
    "model.add(layers.BatchNormalization())\n",
    "model.add(layers.Dense(68, activation='tanh'))\n",
    "model.add(layers.Dense(3, activation='softmax'))\n",
    "\n",
    "model.summary()"
   ]
  },
  {
   "cell_type": "code",
   "execution_count": 48,
   "id": "1fc39f16",
   "metadata": {},
   "outputs": [],
   "source": [
    "model.compile(optimizer=tf.keras.optimizers.Adam(learning_rate=1e-3),\n",
    "              loss=keras.losses.CategoricalCrossentropy(),\n",
    "              metrics=['accuracy'])"
   ]
  },
  {
   "cell_type": "code",
   "execution_count": 49,
   "id": "19216273",
   "metadata": {},
   "outputs": [
    {
     "name": "stdout",
     "output_type": "stream",
     "text": [
      "Epoch 1/100\n",
      "13/13 [==============================] - 1s 35ms/step - loss: 0.8633 - accuracy: 0.6721 - val_loss: 1.3198 - val_accuracy: 0.5800\n",
      "Epoch 2/100\n",
      "13/13 [==============================] - 0s 7ms/step - loss: 0.5577 - accuracy: 0.8098 - val_loss: 1.2483 - val_accuracy: 0.5700\n",
      "Epoch 3/100\n",
      "13/13 [==============================] - 0s 8ms/step - loss: 0.4556 - accuracy: 0.8473 - val_loss: 1.0152 - val_accuracy: 0.5750\n",
      "Epoch 4/100\n",
      "13/13 [==============================] - 0s 7ms/step - loss: 0.3984 - accuracy: 0.8586 - val_loss: 0.8138 - val_accuracy: 0.6600\n",
      "Epoch 5/100\n",
      "13/13 [==============================] - 0s 7ms/step - loss: 0.3416 - accuracy: 0.8648 - val_loss: 0.7199 - val_accuracy: 0.7650\n",
      "Epoch 6/100\n",
      "13/13 [==============================] - 0s 8ms/step - loss: 0.2970 - accuracy: 0.8723 - val_loss: 0.6017 - val_accuracy: 0.8550\n",
      "Epoch 7/100\n",
      "13/13 [==============================] - 0s 8ms/step - loss: 0.2683 - accuracy: 0.8924 - val_loss: 0.4628 - val_accuracy: 0.8950\n",
      "Epoch 8/100\n",
      "13/13 [==============================] - 0s 9ms/step - loss: 0.2324 - accuracy: 0.9099 - val_loss: 0.3284 - val_accuracy: 0.9450\n",
      "Epoch 9/100\n",
      "13/13 [==============================] - 0s 7ms/step - loss: 0.2079 - accuracy: 0.9186 - val_loss: 0.2758 - val_accuracy: 0.9500\n",
      "Epoch 10/100\n",
      "13/13 [==============================] - 0s 6ms/step - loss: 0.1941 - accuracy: 0.9312 - val_loss: 0.2360 - val_accuracy: 0.9250\n",
      "Epoch 11/100\n",
      "13/13 [==============================] - 0s 6ms/step - loss: 0.1765 - accuracy: 0.9262 - val_loss: 0.2009 - val_accuracy: 0.9450\n",
      "Epoch 12/100\n",
      "13/13 [==============================] - 0s 6ms/step - loss: 0.1577 - accuracy: 0.9324 - val_loss: 0.2721 - val_accuracy: 0.8700\n",
      "Epoch 13/100\n",
      "13/13 [==============================] - 0s 6ms/step - loss: 0.1480 - accuracy: 0.9424 - val_loss: 0.3215 - val_accuracy: 0.8500\n",
      "Epoch 14/100\n",
      "13/13 [==============================] - 0s 7ms/step - loss: 0.1536 - accuracy: 0.9362 - val_loss: 0.4942 - val_accuracy: 0.7650\n",
      "Epoch 15/100\n",
      "13/13 [==============================] - 0s 7ms/step - loss: 0.1344 - accuracy: 0.9537 - val_loss: 0.5593 - val_accuracy: 0.7300\n",
      "Epoch 16/100\n",
      "13/13 [==============================] - 0s 7ms/step - loss: 0.1284 - accuracy: 0.9537 - val_loss: 0.4140 - val_accuracy: 0.7950\n",
      "Epoch 17/100\n",
      "13/13 [==============================] - 0s 7ms/step - loss: 0.1240 - accuracy: 0.9562 - val_loss: 0.4351 - val_accuracy: 0.7850\n",
      "Epoch 18/100\n",
      "13/13 [==============================] - 0s 7ms/step - loss: 0.1186 - accuracy: 0.9612 - val_loss: 0.3742 - val_accuracy: 0.8350\n",
      "Epoch 19/100\n",
      "13/13 [==============================] - 0s 7ms/step - loss: 0.1092 - accuracy: 0.9637 - val_loss: 0.5118 - val_accuracy: 0.7750\n",
      "Epoch 20/100\n",
      "13/13 [==============================] - 0s 9ms/step - loss: 0.1064 - accuracy: 0.9599 - val_loss: 0.5085 - val_accuracy: 0.7750\n",
      "Epoch 21/100\n",
      "13/13 [==============================] - 0s 9ms/step - loss: 0.1012 - accuracy: 0.9587 - val_loss: 0.4602 - val_accuracy: 0.8250\n",
      "Epoch 22/100\n",
      "13/13 [==============================] - 0s 8ms/step - loss: 0.0945 - accuracy: 0.9675 - val_loss: 0.5937 - val_accuracy: 0.7850\n",
      "Epoch 23/100\n",
      "13/13 [==============================] - 0s 8ms/step - loss: 0.1000 - accuracy: 0.9675 - val_loss: 0.2953 - val_accuracy: 0.8800\n",
      "Epoch 24/100\n",
      "13/13 [==============================] - 0s 7ms/step - loss: 0.0975 - accuracy: 0.9700 - val_loss: 0.3125 - val_accuracy: 0.8900\n",
      "Epoch 25/100\n",
      "13/13 [==============================] - 0s 7ms/step - loss: 0.0900 - accuracy: 0.9687 - val_loss: 0.4230 - val_accuracy: 0.8300\n",
      "Epoch 26/100\n",
      "13/13 [==============================] - 0s 8ms/step - loss: 0.0904 - accuracy: 0.9675 - val_loss: 0.2036 - val_accuracy: 0.9150\n",
      "Epoch 27/100\n",
      "13/13 [==============================] - 0s 8ms/step - loss: 0.0874 - accuracy: 0.9687 - val_loss: 0.1437 - val_accuracy: 0.9400\n",
      "Epoch 28/100\n",
      "13/13 [==============================] - 0s 8ms/step - loss: 0.0855 - accuracy: 0.9750 - val_loss: 0.1704 - val_accuracy: 0.9050\n",
      "Epoch 29/100\n",
      "13/13 [==============================] - 0s 8ms/step - loss: 0.0817 - accuracy: 0.9712 - val_loss: 0.1724 - val_accuracy: 0.9000\n",
      "Epoch 30/100\n",
      "13/13 [==============================] - 0s 8ms/step - loss: 0.0820 - accuracy: 0.9737 - val_loss: 0.2446 - val_accuracy: 0.8900\n",
      "Epoch 31/100\n",
      "13/13 [==============================] - 0s 6ms/step - loss: 0.0909 - accuracy: 0.9737 - val_loss: 0.1759 - val_accuracy: 0.9000\n",
      "Epoch 32/100\n",
      "13/13 [==============================] - 0s 6ms/step - loss: 0.0842 - accuracy: 0.9762 - val_loss: 0.0733 - val_accuracy: 0.9950\n",
      "Epoch 33/100\n",
      "13/13 [==============================] - 0s 7ms/step - loss: 0.0796 - accuracy: 0.9737 - val_loss: 0.1042 - val_accuracy: 0.9800\n",
      "Epoch 34/100\n",
      "13/13 [==============================] - 0s 8ms/step - loss: 0.0773 - accuracy: 0.9750 - val_loss: 0.1336 - val_accuracy: 0.9350\n",
      "Epoch 35/100\n",
      "13/13 [==============================] - 0s 9ms/step - loss: 0.0800 - accuracy: 0.9737 - val_loss: 0.0714 - val_accuracy: 0.9950\n",
      "Epoch 36/100\n",
      "13/13 [==============================] - 0s 9ms/step - loss: 0.0796 - accuracy: 0.9775 - val_loss: 0.1122 - val_accuracy: 0.9600\n",
      "Epoch 37/100\n",
      "13/13 [==============================] - 0s 8ms/step - loss: 0.0695 - accuracy: 0.9825 - val_loss: 0.1299 - val_accuracy: 0.9650\n",
      "Epoch 38/100\n",
      "13/13 [==============================] - 0s 8ms/step - loss: 0.0728 - accuracy: 0.9775 - val_loss: 0.1091 - val_accuracy: 0.9650\n",
      "Epoch 39/100\n",
      "13/13 [==============================] - 0s 8ms/step - loss: 0.0720 - accuracy: 0.9787 - val_loss: 0.0843 - val_accuracy: 0.9650\n",
      "Epoch 40/100\n",
      "13/13 [==============================] - 0s 8ms/step - loss: 0.0792 - accuracy: 0.9725 - val_loss: 0.0806 - val_accuracy: 0.9650\n",
      "Epoch 41/100\n",
      "13/13 [==============================] - 0s 8ms/step - loss: 0.0654 - accuracy: 0.9775 - val_loss: 0.1140 - val_accuracy: 0.9600\n",
      "Epoch 42/100\n",
      "13/13 [==============================] - 0s 9ms/step - loss: 0.0695 - accuracy: 0.9812 - val_loss: 0.0807 - val_accuracy: 0.9800\n",
      "Epoch 43/100\n",
      "13/13 [==============================] - 0s 8ms/step - loss: 0.0762 - accuracy: 0.9787 - val_loss: 0.1179 - val_accuracy: 0.9550\n",
      "Epoch 44/100\n",
      "13/13 [==============================] - ETA: 0s - loss: 0.0774 - accuracy: 0.97 - 0s 8ms/step - loss: 0.0737 - accuracy: 0.9737 - val_loss: 0.0745 - val_accuracy: 0.9750\n",
      "Epoch 45/100\n",
      "13/13 [==============================] - 0s 8ms/step - loss: 0.0766 - accuracy: 0.9762 - val_loss: 0.0527 - val_accuracy: 0.9950\n",
      "Epoch 46/100\n",
      "13/13 [==============================] - 0s 9ms/step - loss: 0.0709 - accuracy: 0.9812 - val_loss: 0.0562 - val_accuracy: 0.9900\n",
      "Epoch 47/100\n",
      "13/13 [==============================] - 0s 9ms/step - loss: 0.0666 - accuracy: 0.9787 - val_loss: 0.0517 - val_accuracy: 0.9950\n",
      "Epoch 48/100\n",
      "13/13 [==============================] - 0s 8ms/step - loss: 0.0761 - accuracy: 0.9762 - val_loss: 0.0780 - val_accuracy: 0.9750\n",
      "Epoch 49/100\n",
      "13/13 [==============================] - ETA: 0s - loss: 0.0692 - accuracy: 0.97 - 0s 9ms/step - loss: 0.0687 - accuracy: 0.9787 - val_loss: 0.1190 - val_accuracy: 0.9500\n",
      "Epoch 50/100\n",
      "13/13 [==============================] - 0s 7ms/step - loss: 0.0677 - accuracy: 0.9825 - val_loss: 0.0498 - val_accuracy: 0.9950\n",
      "Epoch 51/100\n",
      "13/13 [==============================] - 0s 6ms/step - loss: 0.0725 - accuracy: 0.9787 - val_loss: 0.1107 - val_accuracy: 0.9600\n",
      "Epoch 52/100\n",
      "13/13 [==============================] - 0s 6ms/step - loss: 0.0575 - accuracy: 0.9837 - val_loss: 0.0468 - val_accuracy: 1.0000\n",
      "Epoch 53/100\n",
      "13/13 [==============================] - 0s 6ms/step - loss: 0.0586 - accuracy: 0.9825 - val_loss: 0.0756 - val_accuracy: 0.9650\n",
      "Epoch 54/100\n",
      "13/13 [==============================] - 0s 9ms/step - loss: 0.0695 - accuracy: 0.9762 - val_loss: 0.1273 - val_accuracy: 0.9450\n",
      "Epoch 55/100\n",
      "13/13 [==============================] - 0s 8ms/step - loss: 0.0594 - accuracy: 0.9812 - val_loss: 0.1033 - val_accuracy: 0.9450\n",
      "Epoch 56/100\n",
      "13/13 [==============================] - 0s 8ms/step - loss: 0.0575 - accuracy: 0.9837 - val_loss: 0.0863 - val_accuracy: 0.9750\n",
      "Epoch 57/100\n",
      "13/13 [==============================] - 0s 8ms/step - loss: 0.0601 - accuracy: 0.9812 - val_loss: 0.1351 - val_accuracy: 0.9250\n",
      "Epoch 58/100\n"
     ]
    },
    {
     "name": "stdout",
     "output_type": "stream",
     "text": [
      "13/13 [==============================] - 0s 8ms/step - loss: 0.0606 - accuracy: 0.9825 - val_loss: 0.0905 - val_accuracy: 0.9450\n",
      "Epoch 59/100\n",
      "13/13 [==============================] - 0s 9ms/step - loss: 0.0560 - accuracy: 0.9850 - val_loss: 0.1181 - val_accuracy: 0.9450\n",
      "Epoch 60/100\n",
      "13/13 [==============================] - 0s 9ms/step - loss: 0.0636 - accuracy: 0.9800 - val_loss: 0.2434 - val_accuracy: 0.8900\n",
      "Epoch 61/100\n",
      "13/13 [==============================] - 0s 9ms/step - loss: 0.0635 - accuracy: 0.9750 - val_loss: 0.0657 - val_accuracy: 0.9850\n",
      "Epoch 62/100\n",
      "13/13 [==============================] - 0s 9ms/step - loss: 0.0552 - accuracy: 0.9862 - val_loss: 0.0631 - val_accuracy: 0.9800\n",
      "Epoch 63/100\n",
      "13/13 [==============================] - 0s 9ms/step - loss: 0.0554 - accuracy: 0.9837 - val_loss: 0.0899 - val_accuracy: 0.9750\n",
      "Epoch 64/100\n",
      "13/13 [==============================] - 0s 8ms/step - loss: 0.0617 - accuracy: 0.9787 - val_loss: 0.0534 - val_accuracy: 0.9850\n",
      "Epoch 65/100\n",
      "13/13 [==============================] - 0s 8ms/step - loss: 0.0612 - accuracy: 0.9812 - val_loss: 0.0601 - val_accuracy: 0.9800\n",
      "Epoch 66/100\n",
      "13/13 [==============================] - 0s 8ms/step - loss: 0.0545 - accuracy: 0.9775 - val_loss: 0.1277 - val_accuracy: 0.9450\n",
      "Epoch 67/100\n",
      "13/13 [==============================] - 0s 8ms/step - loss: 0.0554 - accuracy: 0.9837 - val_loss: 0.0914 - val_accuracy: 0.9700\n",
      "Epoch 68/100\n",
      "13/13 [==============================] - 0s 8ms/step - loss: 0.0544 - accuracy: 0.9825 - val_loss: 0.0646 - val_accuracy: 0.9850\n",
      "Epoch 69/100\n",
      "13/13 [==============================] - 0s 8ms/step - loss: 0.0549 - accuracy: 0.9850 - val_loss: 0.0718 - val_accuracy: 0.9750\n",
      "Epoch 70/100\n",
      "13/13 [==============================] - 0s 6ms/step - loss: 0.0583 - accuracy: 0.9812 - val_loss: 0.0598 - val_accuracy: 0.9750\n",
      "Epoch 71/100\n",
      "13/13 [==============================] - 0s 7ms/step - loss: 0.0578 - accuracy: 0.9812 - val_loss: 0.0477 - val_accuracy: 0.9950\n",
      "Epoch 72/100\n",
      "13/13 [==============================] - 0s 7ms/step - loss: 0.0594 - accuracy: 0.9775 - val_loss: 0.0623 - val_accuracy: 0.9800\n",
      "Epoch 73/100\n",
      "13/13 [==============================] - 0s 9ms/step - loss: 0.0543 - accuracy: 0.9837 - val_loss: 0.0838 - val_accuracy: 0.9550\n",
      "Epoch 74/100\n",
      "13/13 [==============================] - 0s 8ms/step - loss: 0.0522 - accuracy: 0.9825 - val_loss: 0.0760 - val_accuracy: 0.9850\n",
      "Epoch 75/100\n",
      "13/13 [==============================] - 0s 9ms/step - loss: 0.0452 - accuracy: 0.9850 - val_loss: 0.1058 - val_accuracy: 0.9450\n",
      "Epoch 76/100\n",
      "13/13 [==============================] - 0s 9ms/step - loss: 0.0488 - accuracy: 0.9825 - val_loss: 0.0555 - val_accuracy: 0.9800\n",
      "Epoch 77/100\n",
      "13/13 [==============================] - 0s 8ms/step - loss: 0.0520 - accuracy: 0.9800 - val_loss: 0.0898 - val_accuracy: 0.9450\n",
      "Epoch 78/100\n",
      "13/13 [==============================] - 0s 8ms/step - loss: 0.0531 - accuracy: 0.9825 - val_loss: 0.0991 - val_accuracy: 0.9450\n",
      "Epoch 79/100\n",
      "13/13 [==============================] - 0s 8ms/step - loss: 0.0460 - accuracy: 0.9862 - val_loss: 0.1822 - val_accuracy: 0.9200\n",
      "Epoch 80/100\n",
      "13/13 [==============================] - 0s 8ms/step - loss: 0.0491 - accuracy: 0.9837 - val_loss: 0.2724 - val_accuracy: 0.9000\n",
      "Epoch 81/100\n",
      "13/13 [==============================] - 0s 8ms/step - loss: 0.0514 - accuracy: 0.9862 - val_loss: 0.2132 - val_accuracy: 0.9100\n",
      "Epoch 82/100\n",
      "13/13 [==============================] - 0s 9ms/step - loss: 0.0470 - accuracy: 0.9837 - val_loss: 0.2961 - val_accuracy: 0.8750\n",
      "Epoch 83/100\n",
      "13/13 [==============================] - 0s 9ms/step - loss: 0.0442 - accuracy: 0.9825 - val_loss: 0.2168 - val_accuracy: 0.9150\n",
      "Epoch 84/100\n",
      "13/13 [==============================] - 0s 9ms/step - loss: 0.0440 - accuracy: 0.9825 - val_loss: 0.2091 - val_accuracy: 0.9100\n",
      "Epoch 85/100\n",
      "13/13 [==============================] - 0s 9ms/step - loss: 0.0466 - accuracy: 0.9850 - val_loss: 0.2078 - val_accuracy: 0.9200\n",
      "Epoch 86/100\n",
      "13/13 [==============================] - 0s 8ms/step - loss: 0.0470 - accuracy: 0.9875 - val_loss: 0.1783 - val_accuracy: 0.9250\n",
      "Epoch 87/100\n",
      "13/13 [==============================] - 0s 8ms/step - loss: 0.0470 - accuracy: 0.9850 - val_loss: 0.2247 - val_accuracy: 0.9150\n",
      "Epoch 88/100\n",
      "13/13 [==============================] - 0s 7ms/step - loss: 0.0430 - accuracy: 0.9862 - val_loss: 0.3650 - val_accuracy: 0.8650\n",
      "Epoch 89/100\n",
      "13/13 [==============================] - 0s 6ms/step - loss: 0.0418 - accuracy: 0.9837 - val_loss: 0.2174 - val_accuracy: 0.9100\n",
      "Epoch 90/100\n",
      "13/13 [==============================] - 0s 6ms/step - loss: 0.0480 - accuracy: 0.9825 - val_loss: 0.3226 - val_accuracy: 0.8850\n",
      "Epoch 91/100\n",
      "13/13 [==============================] - 0s 7ms/step - loss: 0.0512 - accuracy: 0.9837 - val_loss: 0.2509 - val_accuracy: 0.9100\n",
      "Epoch 92/100\n",
      "13/13 [==============================] - 0s 7ms/step - loss: 0.0473 - accuracy: 0.9862 - val_loss: 0.0821 - val_accuracy: 0.9800\n",
      "Epoch 93/100\n",
      "13/13 [==============================] - 0s 8ms/step - loss: 0.0472 - accuracy: 0.9837 - val_loss: 0.3967 - val_accuracy: 0.8500\n",
      "Epoch 94/100\n",
      "13/13 [==============================] - 0s 8ms/step - loss: 0.0350 - accuracy: 0.9900 - val_loss: 0.1185 - val_accuracy: 0.9250\n",
      "Epoch 95/100\n",
      "13/13 [==============================] - 0s 9ms/step - loss: 0.0384 - accuracy: 0.9875 - val_loss: 0.1411 - val_accuracy: 0.9400\n",
      "Epoch 96/100\n",
      "13/13 [==============================] - 0s 9ms/step - loss: 0.0399 - accuracy: 0.9837 - val_loss: 0.1811 - val_accuracy: 0.9150\n",
      "Epoch 97/100\n",
      "13/13 [==============================] - 0s 9ms/step - loss: 0.0404 - accuracy: 0.9875 - val_loss: 0.2172 - val_accuracy: 0.9050\n",
      "Epoch 98/100\n",
      "13/13 [==============================] - 0s 9ms/step - loss: 0.0431 - accuracy: 0.9850 - val_loss: 0.1794 - val_accuracy: 0.9150\n",
      "Epoch 99/100\n",
      "13/13 [==============================] - 0s 8ms/step - loss: 0.0347 - accuracy: 0.9925 - val_loss: 0.1717 - val_accuracy: 0.9200\n",
      "Epoch 100/100\n",
      "13/13 [==============================] - 0s 8ms/step - loss: 0.0391 - accuracy: 0.9875 - val_loss: 0.0473 - val_accuracy: 0.9850\n"
     ]
    }
   ],
   "source": [
    "history = model.fit(X_train, y_train, batch_size=64, epochs=100, \n",
    "                    validation_data=(X_test, y_test))"
   ]
  },
  {
   "cell_type": "code",
   "execution_count": 52,
   "id": "a0f5f71b",
   "metadata": {},
   "outputs": [
    {
     "data": {
      "image/png": "[encoded data removed]",
      "text/plain": [
       "<Figure size 432x288 with 1 Axes>"
      ]
     },
     "metadata": {
      "needs_background": "light"
     },
     "output_type": "display_data"
    }
   ],
   "source": [
    "plt.plot(history.history['val_accuracy'])\n",
    "plt.title('Validation Accuracy')\n",
    "plt.grid(axis='y', alpha=0.75)\n",
    "plt.show()"
   ]
  },
  {
   "cell_type": "code",
   "execution_count": 53,
   "id": "312b5543",
   "metadata": {},
   "outputs": [
    {
     "data": {
      "image/png": "[encoded data removed]",
      "text/plain": [
       "<Figure size 432x288 with 1 Axes>"
      ]
     },
     "metadata": {
      "needs_background": "light"
     },
     "output_type": "display_data"
    }
   ],
   "source": [
    "plt.plot(history.history['accuracy'])\n",
    "plt.title('Training Accuracy')\n",
    "plt.grid(axis='y', alpha=0.75)\n",
    "plt.show()"
   ]
  },
  {
   "cell_type": "code",
   "execution_count": 54,
   "id": "8e13126d",
   "metadata": {},
   "outputs": [
    {
     "name": "stdout",
     "output_type": "stream",
     "text": [
      "Model: \"sequential_2\"\n",
      "_________________________________________________________________\n",
      "Layer (type)                 Output Shape              Param #   \n",
      "=================================================================\n",
      "dense_6 (Dense)              (None, 18)                342       \n",
      "_________________________________________________________________\n",
      "batch_normalization_2 (Batch (None, 18)                72        \n",
      "_________________________________________________________________\n",
      "dense_7 (Dense)              (None, 68)                1292      \n",
      "_________________________________________________________________\n",
      "batch_normalization_3 (Batch (None, 68)                272       \n",
      "_________________________________________________________________\n",
      "dense_8 (Dense)              (None, 3)                 207       \n",
      "=================================================================\n",
      "Total params: 2,185\n",
      "Trainable params: 2,013\n",
      "Non-trainable params: 172\n",
      "_________________________________________________________________\n",
      "None\n",
      "Epoch 1/100\n",
      "13/13 [==============================] - 1s 24ms/step - loss: 1.3118 - accuracy: 0.4531 - val_loss: 2.1375 - val_accuracy: 0.0900\n",
      "Epoch 2/100\n",
      "13/13 [==============================] - 0s 10ms/step - loss: 0.5261 - accuracy: 0.8185 - val_loss: 1.6626 - val_accuracy: 0.2300\n",
      "Epoch 3/100\n",
      "13/13 [==============================] - 0s 9ms/step - loss: 0.3950 - accuracy: 0.8698 - val_loss: 1.5390 - val_accuracy: 0.3850\n",
      "Epoch 4/100\n",
      "13/13 [==============================] - 0s 9ms/step - loss: 0.3401 - accuracy: 0.8836 - val_loss: 1.4977 - val_accuracy: 0.4700\n",
      "Epoch 5/100\n",
      "13/13 [==============================] - 0s 9ms/step - loss: 0.3002 - accuracy: 0.8924 - val_loss: 1.4787 - val_accuracy: 0.4750\n",
      "Epoch 6/100\n",
      "13/13 [==============================] - 0s 10ms/step - loss: 0.2777 - accuracy: 0.9036 - val_loss: 1.1705 - val_accuracy: 0.4800\n",
      "Epoch 7/100\n",
      "13/13 [==============================] - 0s 9ms/step - loss: 0.2561 - accuracy: 0.9049 - val_loss: 1.0694 - val_accuracy: 0.4800\n",
      "Epoch 8/100\n",
      "13/13 [==============================] - 0s 7ms/step - loss: 0.2345 - accuracy: 0.9186 - val_loss: 0.7487 - val_accuracy: 0.6350\n",
      "Epoch 9/100\n",
      "13/13 [==============================] - 0s 7ms/step - loss: 0.2197 - accuracy: 0.9136 - val_loss: 0.5186 - val_accuracy: 0.8250\n",
      "Epoch 10/100\n",
      "13/13 [==============================] - 0s 9ms/step - loss: 0.2136 - accuracy: 0.9099 - val_loss: 0.4169 - val_accuracy: 0.8650\n",
      "Epoch 11/100\n",
      "13/13 [==============================] - 0s 9ms/step - loss: 0.1959 - accuracy: 0.9299 - val_loss: 0.4171 - val_accuracy: 0.8300\n",
      "Epoch 12/100\n",
      "13/13 [==============================] - 0s 9ms/step - loss: 0.1730 - accuracy: 0.9374 - val_loss: 0.4313 - val_accuracy: 0.8100\n",
      "Epoch 13/100\n",
      "13/13 [==============================] - 0s 9ms/step - loss: 0.1624 - accuracy: 0.9387 - val_loss: 0.5813 - val_accuracy: 0.7400\n",
      "Epoch 14/100\n",
      "13/13 [==============================] - 0s 9ms/step - loss: 0.1547 - accuracy: 0.9474 - val_loss: 0.5776 - val_accuracy: 0.7400\n",
      "Epoch 15/100\n",
      "13/13 [==============================] - 0s 9ms/step - loss: 0.1494 - accuracy: 0.9424 - val_loss: 0.6503 - val_accuracy: 0.7250\n",
      "Epoch 16/100\n",
      "13/13 [==============================] - 0s 9ms/step - loss: 0.1543 - accuracy: 0.9412 - val_loss: 0.8301 - val_accuracy: 0.6900\n",
      "Epoch 17/100\n",
      "13/13 [==============================] - 0s 11ms/step - loss: 0.1441 - accuracy: 0.9587 - val_loss: 0.9392 - val_accuracy: 0.6750\n",
      "Epoch 18/100\n",
      "13/13 [==============================] - 0s 10ms/step - loss: 0.1287 - accuracy: 0.9549 - val_loss: 1.0444 - val_accuracy: 0.5950\n",
      "Epoch 19/100\n",
      "13/13 [==============================] - 0s 9ms/step - loss: 0.1281 - accuracy: 0.9537 - val_loss: 0.9386 - val_accuracy: 0.6700\n",
      "Epoch 20/100\n",
      "13/13 [==============================] - 0s 9ms/step - loss: 0.1131 - accuracy: 0.9687 - val_loss: 0.8363 - val_accuracy: 0.6850\n",
      "Epoch 21/100\n",
      "13/13 [==============================] - 0s 9ms/step - loss: 0.1138 - accuracy: 0.9625 - val_loss: 0.8804 - val_accuracy: 0.6750\n",
      "Epoch 22/100\n",
      "13/13 [==============================] - 0s 10ms/step - loss: 0.1100 - accuracy: 0.9637 - val_loss: 0.7471 - val_accuracy: 0.6900\n",
      "Epoch 23/100\n",
      "13/13 [==============================] - 0s 10ms/step - loss: 0.1113 - accuracy: 0.9662 - val_loss: 0.6405 - val_accuracy: 0.7150\n",
      "Epoch 24/100\n",
      "13/13 [==============================] - 0s 8ms/step - loss: 0.1020 - accuracy: 0.9700 - val_loss: 0.5706 - val_accuracy: 0.7450\n",
      "Epoch 25/100\n",
      "13/13 [==============================] - 0s 8ms/step - loss: 0.1028 - accuracy: 0.9637 - val_loss: 0.6308 - val_accuracy: 0.7300\n",
      "Epoch 26/100\n",
      "13/13 [==============================] - 0s 7ms/step - loss: 0.0978 - accuracy: 0.9637 - val_loss: 0.6831 - val_accuracy: 0.7000\n",
      "Epoch 27/100\n",
      "13/13 [==============================] - 0s 10ms/step - loss: 0.0957 - accuracy: 0.9725 - val_loss: 0.5079 - val_accuracy: 0.7600\n",
      "Epoch 28/100\n",
      "13/13 [==============================] - 0s 12ms/step - loss: 0.0934 - accuracy: 0.9662 - val_loss: 0.5878 - val_accuracy: 0.7400\n",
      "Epoch 29/100\n",
      "13/13 [==============================] - 0s 10ms/step - loss: 0.0937 - accuracy: 0.9675 - val_loss: 0.3392 - val_accuracy: 0.7900\n",
      "Epoch 30/100\n",
      "13/13 [==============================] - 0s 9ms/step - loss: 0.0829 - accuracy: 0.9750 - val_loss: 0.3665 - val_accuracy: 0.8100\n",
      "Epoch 31/100\n",
      "13/13 [==============================] - 0s 9ms/step - loss: 0.0861 - accuracy: 0.9712 - val_loss: 0.4483 - val_accuracy: 0.7650\n",
      "Epoch 32/100\n",
      "13/13 [==============================] - 0s 10ms/step - loss: 0.0831 - accuracy: 0.9700 - val_loss: 0.4982 - val_accuracy: 0.8000\n",
      "Epoch 33/100\n",
      "13/13 [==============================] - 0s 10ms/step - loss: 0.0822 - accuracy: 0.9687 - val_loss: 0.3260 - val_accuracy: 0.8450\n",
      "Epoch 34/100\n",
      "13/13 [==============================] - 0s 9ms/step - loss: 0.0797 - accuracy: 0.9712 - val_loss: 0.2476 - val_accuracy: 0.8850\n",
      "Epoch 35/100\n",
      "13/13 [==============================] - 0s 9ms/step - loss: 0.0744 - accuracy: 0.9787 - val_loss: 0.1971 - val_accuracy: 0.9100\n",
      "Epoch 36/100\n",
      "13/13 [==============================] - 0s 9ms/step - loss: 0.0779 - accuracy: 0.9762 - val_loss: 0.2059 - val_accuracy: 0.8950\n",
      "Epoch 37/100\n",
      "13/13 [==============================] - 0s 9ms/step - loss: 0.0733 - accuracy: 0.9800 - val_loss: 0.1775 - val_accuracy: 0.9150\n",
      "Epoch 38/100\n",
      "13/13 [==============================] - 0s 11ms/step - loss: 0.0826 - accuracy: 0.9750 - val_loss: 0.2757 - val_accuracy: 0.8750\n",
      "Epoch 39/100\n",
      "13/13 [==============================] - 0s 11ms/step - loss: 0.0736 - accuracy: 0.9787 - val_loss: 0.1740 - val_accuracy: 0.9050\n",
      "Epoch 40/100\n",
      "13/13 [==============================] - 0s 8ms/step - loss: 0.0681 - accuracy: 0.9775 - val_loss: 0.1181 - val_accuracy: 0.9650\n",
      "Epoch 41/100\n",
      "13/13 [==============================] - 0s 7ms/step - loss: 0.0719 - accuracy: 0.9750 - val_loss: 0.1076 - val_accuracy: 0.9800\n",
      "Epoch 42/100\n",
      "13/13 [==============================] - 0s 7ms/step - loss: 0.0731 - accuracy: 0.9712 - val_loss: 0.1038 - val_accuracy: 0.9800\n",
      "Epoch 43/100\n",
      "13/13 [==============================] - 0s 8ms/step - loss: 0.0695 - accuracy: 0.9787 - val_loss: 0.0803 - val_accuracy: 0.9850\n",
      "Epoch 44/100\n",
      "13/13 [==============================] - 0s 9ms/step - loss: 0.0638 - accuracy: 0.9812 - val_loss: 0.0708 - val_accuracy: 0.9850\n",
      "Epoch 45/100\n",
      "13/13 [==============================] - 0s 9ms/step - loss: 0.0653 - accuracy: 0.9787 - val_loss: 0.0778 - val_accuracy: 0.9750\n",
      "Epoch 46/100\n",
      "13/13 [==============================] - 0s 9ms/step - loss: 0.0656 - accuracy: 0.9837 - val_loss: 0.0865 - val_accuracy: 0.9600\n",
      "Epoch 47/100\n",
      "13/13 [==============================] - 0s 9ms/step - loss: 0.0612 - accuracy: 0.9862 - val_loss: 0.0715 - val_accuracy: 0.9900\n",
      "Epoch 48/100\n",
      "13/13 [==============================] - 0s 9ms/step - loss: 0.0605 - accuracy: 0.9837 - val_loss: 0.0893 - val_accuracy: 0.9650\n",
      "Epoch 49/100\n",
      "13/13 [==============================] - 0s 9ms/step - loss: 0.0705 - accuracy: 0.9800 - val_loss: 0.0661 - val_accuracy: 1.0000\n",
      "Epoch 50/100\n",
      "13/13 [==============================] - 0s 11ms/step - loss: 0.0771 - accuracy: 0.9737 - val_loss: 0.0698 - val_accuracy: 0.9950\n",
      "Epoch 51/100\n"
     ]
    },
    {
     "name": "stdout",
     "output_type": "stream",
     "text": [
      "13/13 [==============================] - 0s 10ms/step - loss: 0.0635 - accuracy: 0.9762 - val_loss: 0.0820 - val_accuracy: 0.9850\n",
      "Epoch 52/100\n",
      "13/13 [==============================] - 0s 10ms/step - loss: 0.0626 - accuracy: 0.9837 - val_loss: 0.0906 - val_accuracy: 0.9650\n",
      "Epoch 53/100\n",
      "13/13 [==============================] - 0s 9ms/step - loss: 0.0581 - accuracy: 0.9850 - val_loss: 0.0533 - val_accuracy: 0.9950\n",
      "Epoch 54/100\n",
      "13/13 [==============================] - 0s 10ms/step - loss: 0.0632 - accuracy: 0.9737 - val_loss: 0.0531 - val_accuracy: 1.0000\n",
      "Epoch 55/100\n",
      "13/13 [==============================] - 0s 9ms/step - loss: 0.0520 - accuracy: 0.9825 - val_loss: 0.0810 - val_accuracy: 0.9850\n",
      "Epoch 56/100\n",
      "13/13 [==============================] - 0s 9ms/step - loss: 0.0571 - accuracy: 0.9800 - val_loss: 0.0924 - val_accuracy: 0.9750\n",
      "Epoch 57/100\n",
      "13/13 [==============================] - 0s 8ms/step - loss: 0.0636 - accuracy: 0.9837 - val_loss: 0.0864 - val_accuracy: 0.9800\n",
      "Epoch 58/100\n",
      "13/13 [==============================] - 0s 9ms/step - loss: 0.0576 - accuracy: 0.9812 - val_loss: 0.1940 - val_accuracy: 0.8950\n",
      "Epoch 59/100\n",
      "13/13 [==============================] - 0s 7ms/step - loss: 0.0594 - accuracy: 0.9837 - val_loss: 0.0916 - val_accuracy: 0.9650\n",
      "Epoch 60/100\n",
      "13/13 [==============================] - 0s 10ms/step - loss: 0.0544 - accuracy: 0.9825 - val_loss: 0.0736 - val_accuracy: 0.9800\n",
      "Epoch 61/100\n",
      "13/13 [==============================] - 0s 10ms/step - loss: 0.0544 - accuracy: 0.9862 - val_loss: 0.1681 - val_accuracy: 0.9100\n",
      "Epoch 62/100\n",
      "13/13 [==============================] - 0s 9ms/step - loss: 0.0516 - accuracy: 0.9825 - val_loss: 0.0935 - val_accuracy: 0.9650\n",
      "Epoch 63/100\n",
      "13/13 [==============================] - 0s 9ms/step - loss: 0.0501 - accuracy: 0.9825 - val_loss: 0.0509 - val_accuracy: 0.9850\n",
      "Epoch 64/100\n",
      "13/13 [==============================] - 0s 9ms/step - loss: 0.0558 - accuracy: 0.9837 - val_loss: 0.0422 - val_accuracy: 0.9950\n",
      "Epoch 65/100\n",
      "13/13 [==============================] - 0s 9ms/step - loss: 0.0593 - accuracy: 0.9750 - val_loss: 0.0476 - val_accuracy: 0.9850\n",
      "Epoch 66/100\n",
      "13/13 [==============================] - 0s 9ms/step - loss: 0.0601 - accuracy: 0.9800 - val_loss: 0.0479 - val_accuracy: 0.9850\n",
      "Epoch 67/100\n",
      "13/13 [==============================] - 0s 9ms/step - loss: 0.0520 - accuracy: 0.9837 - val_loss: 0.0610 - val_accuracy: 0.9750\n",
      "Epoch 68/100\n",
      "13/13 [==============================] - 0s 9ms/step - loss: 0.0529 - accuracy: 0.9825 - val_loss: 0.0714 - val_accuracy: 0.9650\n",
      "Epoch 69/100\n",
      "13/13 [==============================] - 0s 9ms/step - loss: 0.0512 - accuracy: 0.9850 - val_loss: 0.0514 - val_accuracy: 0.9850\n",
      "Epoch 70/100\n",
      "13/13 [==============================] - 0s 9ms/step - loss: 0.0541 - accuracy: 0.9812 - val_loss: 0.0592 - val_accuracy: 0.9800\n",
      "Epoch 71/100\n",
      "13/13 [==============================] - 0s 11ms/step - loss: 0.0434 - accuracy: 0.9887 - val_loss: 0.0445 - val_accuracy: 0.9850\n",
      "Epoch 72/100\n",
      "13/13 [==============================] - 0s 10ms/step - loss: 0.0511 - accuracy: 0.9850 - val_loss: 0.0697 - val_accuracy: 0.9750\n",
      "Epoch 73/100\n",
      "13/13 [==============================] - 0s 10ms/step - loss: 0.0539 - accuracy: 0.9837 - val_loss: 0.0400 - val_accuracy: 0.9950\n",
      "Epoch 74/100\n",
      "13/13 [==============================] - 0s 7ms/step - loss: 0.0470 - accuracy: 0.9862 - val_loss: 0.0455 - val_accuracy: 0.9950\n",
      "Epoch 75/100\n",
      "13/13 [==============================] - 0s 7ms/step - loss: 0.0486 - accuracy: 0.9825 - val_loss: 0.0561 - val_accuracy: 0.9800\n",
      "Epoch 76/100\n",
      "13/13 [==============================] - 0s 7ms/step - loss: 0.0512 - accuracy: 0.9800 - val_loss: 0.0414 - val_accuracy: 0.9900\n",
      "Epoch 77/100\n",
      "13/13 [==============================] - 0s 9ms/step - loss: 0.0452 - accuracy: 0.9850 - val_loss: 0.0665 - val_accuracy: 0.9650\n",
      "Epoch 78/100\n",
      "13/13 [==============================] - 0s 9ms/step - loss: 0.0461 - accuracy: 0.9862 - val_loss: 0.0742 - val_accuracy: 0.9650\n",
      "Epoch 79/100\n",
      "13/13 [==============================] - 0s 10ms/step - loss: 0.0425 - accuracy: 0.9862 - val_loss: 0.0496 - val_accuracy: 0.9800\n",
      "Epoch 80/100\n",
      "13/13 [==============================] - 0s 10ms/step - loss: 0.0437 - accuracy: 0.9837 - val_loss: 0.0472 - val_accuracy: 0.9900\n",
      "Epoch 81/100\n",
      "13/13 [==============================] - 0s 10ms/step - loss: 0.0528 - accuracy: 0.9825 - val_loss: 0.0473 - val_accuracy: 0.9850\n",
      "Epoch 82/100\n",
      "13/13 [==============================] - 0s 11ms/step - loss: 0.0420 - accuracy: 0.9850 - val_loss: 0.0359 - val_accuracy: 0.9950\n",
      "Epoch 83/100\n",
      "13/13 [==============================] - 0s 10ms/step - loss: 0.0542 - accuracy: 0.9812 - val_loss: 0.1107 - val_accuracy: 0.9500\n",
      "Epoch 84/100\n",
      "13/13 [==============================] - 0s 9ms/step - loss: 0.0577 - accuracy: 0.9775 - val_loss: 0.0458 - val_accuracy: 0.9850\n",
      "Epoch 85/100\n",
      "13/13 [==============================] - 0s 10ms/step - loss: 0.0439 - accuracy: 0.9800 - val_loss: 0.0735 - val_accuracy: 0.9650\n",
      "Epoch 86/100\n",
      "13/13 [==============================] - 0s 9ms/step - loss: 0.0440 - accuracy: 0.9837 - val_loss: 0.0389 - val_accuracy: 0.9950\n",
      "Epoch 87/100\n",
      "13/13 [==============================] - 0s 9ms/step - loss: 0.0487 - accuracy: 0.9837 - val_loss: 0.0594 - val_accuracy: 0.9700\n",
      "Epoch 88/100\n",
      "13/13 [==============================] - 0s 9ms/step - loss: 0.0472 - accuracy: 0.9787 - val_loss: 0.0470 - val_accuracy: 0.9800\n",
      "Epoch 89/100\n",
      "13/13 [==============================] - 0s 9ms/step - loss: 0.0439 - accuracy: 0.9875 - val_loss: 0.0403 - val_accuracy: 0.9850\n",
      "Epoch 90/100\n",
      "13/13 [==============================] - 0s 10ms/step - loss: 0.0412 - accuracy: 0.9837 - val_loss: 0.0473 - val_accuracy: 0.9800\n",
      "Epoch 91/100\n",
      "13/13 [==============================] - 0s 8ms/step - loss: 0.0371 - accuracy: 0.9875 - val_loss: 0.1176 - val_accuracy: 0.9300\n",
      "Epoch 92/100\n",
      "13/13 [==============================] - 0s 8ms/step - loss: 0.0423 - accuracy: 0.9850 - val_loss: 0.0428 - val_accuracy: 0.9850\n",
      "Epoch 93/100\n",
      "13/13 [==============================] - 0s 8ms/step - loss: 0.0373 - accuracy: 0.9850 - val_loss: 0.0461 - val_accuracy: 0.9800\n",
      "Epoch 94/100\n",
      "13/13 [==============================] - 0s 10ms/step - loss: 0.0404 - accuracy: 0.9837 - val_loss: 0.0518 - val_accuracy: 0.9800\n",
      "Epoch 95/100\n",
      "13/13 [==============================] - 0s 9ms/step - loss: 0.0352 - accuracy: 0.9837 - val_loss: 0.0947 - val_accuracy: 0.9400\n",
      "Epoch 96/100\n",
      "13/13 [==============================] - 0s 10ms/step - loss: 0.0398 - accuracy: 0.9850 - val_loss: 0.0811 - val_accuracy: 0.9550\n",
      "Epoch 97/100\n",
      "13/13 [==============================] - 0s 9ms/step - loss: 0.0355 - accuracy: 0.9862 - val_loss: 0.0378 - val_accuracy: 0.9950\n",
      "Epoch 98/100\n",
      "13/13 [==============================] - 0s 9ms/step - loss: 0.0448 - accuracy: 0.9825 - val_loss: 0.0337 - val_accuracy: 0.9950\n",
      "Epoch 99/100\n",
      "13/13 [==============================] - 0s 9ms/step - loss: 0.0325 - accuracy: 0.9887 - val_loss: 0.0324 - val_accuracy: 0.9950\n",
      "Epoch 100/100\n",
      "13/13 [==============================] - 0s 9ms/step - loss: 0.0368 - accuracy: 0.9875 - val_loss: 0.0455 - val_accuracy: 0.9800\n"
     ]
    }
   ],
   "source": [
    "model_2 = keras.Sequential()\n",
    "\n",
    "model_2.add(layers.Dense(18, input_shape=(18,)))\n",
    "model_2.add(layers.BatchNormalization())\n",
    "model_2.add(layers.Dense(68, activation='tanh'))\n",
    "model_2.add(layers.BatchNormalization())\n",
    "model_2.add(layers.Dense(3, activation='softmax'))\n",
    "\n",
    "print(model_2.summary())\n",
    "\n",
    "model_2.compile(optimizer=tf.keras.optimizers.Adam(learning_rate=1e-3),\n",
    "              loss=keras.losses.CategoricalCrossentropy(),\n",
    "              metrics=['accuracy'])\n",
    "\n",
    "history_2 = model_2.fit(X_train, y_train, batch_size=64, epochs=100, \n",
    "                    validation_data=(X_test, y_test))"
   ]
  },
  {
   "cell_type": "code",
   "execution_count": 55,
   "id": "e90cb839",
   "metadata": {},
   "outputs": [
    {
     "data": {
      "image/png": "[encoded data removed]",
      "text/plain": [
       "<Figure size 432x288 with 1 Axes>"
      ]
     },
     "metadata": {
      "needs_background": "light"
     },
     "output_type": "display_data"
    }
   ],
   "source": [
    "plt.plot(history_2.history['val_accuracy'])\n",
    "plt.title('Validation Accuracy for second model')\n",
    "plt.grid(axis='y', alpha=0.75)\n",
    "plt.show()"
   ]
  },
  {
   "cell_type": "code",
   "execution_count": null,
   "id": "61bc84a0",
   "metadata": {},
   "outputs": [],
   "source": [
    "cars[np.isnan(cars)]"
   ]
  },
  {
   "cell_type": "code",
   "execution_count": null,
   "id": "f971f45b",
   "metadata": {},
   "outputs": [],
   "source": []
  }
 ],
 "metadata": {
  "kernelspec": {
   "display_name": "Python 3",
   "language": "python",
   "name": "python3"
  },
  "language_info": {
   "codemirror_mode": {
    "name": "ipython",
    "version": 3
   },
   "file_extension": ".py",
   "mimetype": "text/x-python",
   "name": "python",
   "nbconvert_exporter": "python",
   "pygments_lexer": "ipython3",
   "version": "3.7.10"
  }
 },
 "nbformat": 4,
 "nbformat_minor": 5
}
